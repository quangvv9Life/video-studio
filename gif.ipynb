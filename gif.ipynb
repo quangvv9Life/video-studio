{
 "cells": [
  {
   "cell_type": "code",
   "execution_count": 1,
   "metadata": {},
   "outputs": [
    {
     "data": {
      "text/plain": [
       "[('https://youtu.be/Z4Pk_emQQT4', 'Glute Bridge (Set 3)'),\n",
       " ('https://youtu.be/2XD-mY6lZTY', 'Jump Squat -F (Set 2)'),\n",
       " ('https://youtu.be/JGcfrb2SH9Q', 'Side Planks (Left - Set 5)'),\n",
       " ('https://youtu.be/6UYxUZTDVoI', 'Romanian Deadlift (Set 1)'),\n",
       " ('https://youtu.be/gUizIDzX9yw', 'High Plank (Set 2)'),\n",
       " ('https://youtu.be/yaUycjm5eWM', 'Climbing Crunch (Set 2)'),\n",
       " ('https://youtu.be/hE7MkVe-Qs4', 'Halfway Squat (Set 2)'),\n",
       " ('https://youtu.be/x6TsVc2DbbE', 'Squat Holds (Set 3)'),\n",
       " ('https://youtu.be/E-pJb2dDIms', 'Dumbell Kickback (Set 1)'),\n",
       " ('https://youtu.be/xGFVpzOi2us', 'Plank Twists (Set 1)'),\n",
       " ('https://youtu.be/-kyRbhZqBSA', 'Dumbell Squat (Set 3)'),\n",
       " ('https://youtu.be/9TAN14Ubm_E', 'Biceps Curl (Set 3)'),\n",
       " ('https://youtu.be/mjnvj_-1n-k', 'Dumbell Kickback (Set 2)'),\n",
       " ('https://youtu.be/_p7f-1FUEGA', 'Dumbell Romanian Deadlift - F (Set 1)'),\n",
       " ('https://youtu.be/T3gngp8D64M', 'Chest Fly - F (Set 3)'),\n",
       " ('https://youtu.be/QNiRnoO2pZY', 'Climbing Crunch (Set 3)'),\n",
       " ('https://youtu.be/-XcAF2kcCLU', 'Weighted Shoulder Rotation (Set 1)'),\n",
       " ('https://youtu.be/I7UU_ylGi4o', 'V Abs Holds (Set 1)'),\n",
       " ('https://youtu.be/F0qNrvbABxc', 'Romanian Deadlift (Set 3)'),\n",
       " ('https://youtu.be/HozD0sF4YZ4', 'Burpee - F (Set 2)'),\n",
       " ('https://youtu.be/1PLIggSoy7E', 'Chest Fly - F (Set 1)'),\n",
       " ('https://youtu.be/-ijMIrzGnoc', 'Weighted Shoulder Rotation (Set 3)'),\n",
       " ('https://youtu.be/1kpa1Y97tcg', 'Jump Squat -F (Set 1)'),\n",
       " ('https://youtu.be/rWK9ikgVCcU', 'Jumping Jacks - WU (Set 1)'),\n",
       " ('https://youtu.be/hZYgoGQxrQs', 'Dumbell Kickback (Set 2)'),\n",
       " ('https://youtu.be/BM6pu-OljzA', 'Climbing Crunch (Set 1)'),\n",
       " ('https://youtu.be/Iqpc6SBU2ww', 'Weighted Shoulder Rotation (Set 2)'),\n",
       " ('https://youtu.be/baQ6u1YZ6Ek', 'Russian Twist - F (Set 3)'),\n",
       " ('https://youtu.be/HoQ5VYDJFVs', 'Bounce Squat (Set 3)'),\n",
       " ('https://youtu.be/ygV6ca_5VeY', 'Weighted Russian Twist (Set 2)'),\n",
       " ('https://youtu.be/XaN04PxzFKQ', 'Jump Squat -F (Set 3)'),\n",
       " ('https://youtu.be/a5wjtbJ54v8', 'Plank (Set 3)'),\n",
       " ('https://youtu.be/Jc3QFocHIoI', 'Russian Twist - F (Set 1)'),\n",
       " ('https://youtu.be/d0XsdjvVKkU', 'V Abs Holds (Set 1)'),\n",
       " ('https://youtu.be/JMr5vGkzQcI', 'Biceps Curl (Set 2)'),\n",
       " ('https://youtu.be/lWeuAgEr07Y', 'Switch Lunge (Set 1)'),\n",
       " ('https://youtu.be/z99M-KvaL1U', 'Switch Lunge (Set 2)'),\n",
       " ('https://youtu.be/qXHgdzKs0gA', 'Switch Lunge (Set 3)'),\n",
       " ('https://youtu.be/aHFgf1ikkkQ', 'Dumbell Squat (Set 2)'),\n",
       " ('https://youtu.be/yPheneIrU6w', 'Sumo Squat (Set 1)'),\n",
       " ('https://youtu.be/cKSyAEwzIeI', 'Declined Push Up (Set 2)'),\n",
       " ('https://youtu.be/LopLdTkXtNQ', 'Dumbell Goblet Squat (Set 2)'),\n",
       " ('https://youtu.be/CqA7ZTGECXE', 'Moving Legs Raise (Set 3)'),\n",
       " ('https://youtu.be/J0__7OJivPE', 'Laying Legs Raise (Set 1)'),\n",
       " ('https://youtu.be/aB0hLYCAdHQ', 'Jumping Jacks - F (Set 3)'),\n",
       " ('https://youtu.be/b-8FBGA_A-U', 'Russian Twist - F (Set 2)'),\n",
       " ('https://youtu.be/zSnMYy-XPUo', 'Sumo Squat (Set 2)'),\n",
       " ('https://youtu.be/bd6j6yHngjs', 'Jumping Jacks - F (Set 2)'),\n",
       " ('https://youtu.be/i96ECoNSv4A', 'Dumbell Goblet Squat (Set 3)'),\n",
       " ('https://youtu.be/1KqwHKvfvIc', 'Declined Push Up (Set 1)'),\n",
       " ('https://youtu.be/uG9O3k6FHz8', 'Bounce Squat (Set 2)'),\n",
       " ('https://youtu.be/G37CvXwjbmE', 'High Steps - F (Set 1)'),\n",
       " ('https://youtu.be/pMslILv7Akk', 'Squat Holds (Set 1)'),\n",
       " ('https://youtu.be/ds27QZvL1X4', 'Superman Row (Set 1)'),\n",
       " ('https://youtu.be/-ey0X0rRA4g', 'Dumbell Lunge (Set 1)'),\n",
       " ('https://youtu.be/R7mjDdoxrYA', 'Triceps Extension (Set 1)'),\n",
       " ('https://youtu.be/HgDAu4mM0A8', 'Mountain Climbers (Set 3)'),\n",
       " ('https://youtu.be/HQZ4BpN91I4', 'Forward Lunge (Set 1)'),\n",
       " ('https://youtu.be/jsDSlDrSszE', 'Bounce Squat (Set 1)'),\n",
       " ('https://youtu.be/UL0foLqd_w4', 'Laying Legs Raise (Set 3)'),\n",
       " ('https://youtu.be/czkk9v4WWEI', 'Declined Dumbell Press (Set 3)'),\n",
       " ('https://youtu.be/-yWp_-vdj64', 'Dumbell Chest Fly (Set 3)'),\n",
       " ('https://youtu.be/X-NX-hqhcho', 'Dumbell Chest Fly (Set 1)'),\n",
       " ('https://youtu.be/nfL7MZx7nvA', 'Dumbell Chest Fly (Set 2)'),\n",
       " ('https://youtu.be/AAyw7CHkx_M', 'Burpee (Set 3)'),\n",
       " ('https://youtu.be/VeUd9hmBF18', 'Barbell Row (Set 2)'),\n",
       " ('https://youtu.be/qNk2yp3fC7I', 'Squat With Small Walks (Set 2)'),\n",
       " ('https://youtu.be/LQwhTVyDtAQ', 'Side Planks (Right - Set 2)'),\n",
       " ('https://youtu.be/-99h1s6ju-U', 'Triceps Extension (Set 3)'),\n",
       " ('https://youtu.be/k6DgAXs15Ls', 'Moving Legs Raise (Set 1)'),\n",
       " ('https://youtu.be/-GuHCXwJkqM', 'Lateral Raise'),\n",
       " ('https://youtu.be/SL0jXROMCwA', 'Squat Jump (Set 1)'),\n",
       " ('https://youtu.be/G1C2EetnHAs', 'Declined Dumbell Press (Set 1)'),\n",
       " ('https://youtu.be/yAj0s4EMR64', 'Inclined Dumbell Row (Set 1)'),\n",
       " ('https://youtu.be/5jELSvApDf0', 'Plank (Set 2)'),\n",
       " ('https://youtu.be/CAN6ReURlY0', 'Squat Jump (Set 2)'),\n",
       " ('https://youtu.be/7jJnb_TabXg', 'Dumbell Calf Curl (Set 1)'),\n",
       " ('https://youtu.be/NxMT2AU4vrs', 'Side Planks (Left - Set 3)'),\n",
       " ('https://youtu.be/b8mV3d8jNUU', 'Calf Raise (Set 1)'),\n",
       " ('https://youtu.be/M8Ska9rL1fU', 'Crunch (Set 1)'),\n",
       " ('https://youtu.be/gCMPY8MNlvI', 'Triceps Dips (Set 1)'),\n",
       " ('https://youtu.be/4TL89lx62Lc', 'Dumbell Lunge (Set 2)'),\n",
       " ('https://youtu.be/PQa0MFT7CZs', 'Side Left Leg Raise (Set 4)'),\n",
       " ('https://youtu.be/KUVmA4FVZLY', 'Side Right Leg Raise (Set 3)'),\n",
       " ('https://youtu.be/SWyMd5Xm5R4', 'Dumbell Reverse Lunge (Set 1)'),\n",
       " ('https://youtu.be/JPrQmQfUXtM', 'Side Right Leg Raise (Set 1)'),\n",
       " ('https://youtu.be/wNcMTF6x9aU', 'Superman Row (Set 2)'),\n",
       " ('https://youtu.be/lzuuA8WCTzA', 'Lateral Raise'),\n",
       " ('https://youtu.be/ohc8AuDUb-I', 'Inchworm (Set 2)'),\n",
       " ('https://youtu.be/lvICIztQv2I', 'V Abs Holds (Set 1)'),\n",
       " ('https://youtu.be/qNk2yp3fC7I', 'Squat With Small Walks (Set 3)'),\n",
       " ('https://youtu.be/W1yqllqRY9Q', 'Inchworm (Set 3)'),\n",
       " ('https://youtu.be/KkrksBIQibI', 'Inclined Dumbell Row (Set 2)'),\n",
       " ('https://youtu.be/9dyBCdnGsVA', 'High Steps - F (Set 3)'),\n",
       " ('https://youtu.be/qKj7pWe324M', 'Side Left Leg Raise (Set 2)'),\n",
       " ('https://youtu.be/k44QpUMdu7w', 'Dumbell Calf Curl (Set 3)'),\n",
       " ('https://youtu.be/psNFgfK3aG4', 'Squat Holds (Set 2)'),\n",
       " ('https://youtu.be/17qNnZ62wlw', 'Dumbell Calf Curl (Set 2)'),\n",
       " ('https://youtu.be/M9zqwH8uwWk', 'High Plank (Set 1)'),\n",
       " ('https://youtu.be/TAt3ACWAkrw', 'Triceps Dips (Set 3)'),\n",
       " ('https://youtu.be/q2ICplrFsAI', 'Barbell Row (Set 1)'),\n",
       " ('https://youtu.be/NPkXNzLchpg', 'Jumping Jacks - F (Set 1)'),\n",
       " ('https://youtu.be/rB6qqUOiLFY', 'Jumping Jacks (Set 3)'),\n",
       " ('https://youtu.be/v8lQk49NeMU', 'Arnold Dumbell Press (Set 1)'),\n",
       " ('https://youtu.be/EUOBz6yTmFw', 'Crunch (Set 3)'),\n",
       " ('https://youtu.be/9dyBCdnGsVA', 'Barbell Curl (Set 2)'),\n",
       " ('https://youtu.be/LjpO57in6vk', 'Burpee - F (Set 1)'),\n",
       " ('https://youtu.be/F28nFmNpv0c', 'Inchworm (Set 1)'),\n",
       " ('https://youtu.be/OOYidF-mly4', 'Dumbell Squat (Set 1)'),\n",
       " ('https://youtu.be/5SSd3Eunosg', 'Squat Walks (Set 3)'),\n",
       " ('https://youtu.be/BgeUFv3qni8', 'Dumbell PullOver (Set 3)'),\n",
       " ('https://youtu.be/R6f_gaXb7JY', 'Reverse Crunch (Set 1)'),\n",
       " ('https://youtu.be/GLEjxA2j6jY', 'Jumping Jacks (Set 2)'),\n",
       " ('https://youtu.be/6CU2XfE5tt0', 'Plank (Set 1)'),\n",
       " ('https://youtu.be/7GoB8L5ci4Y', 'Forward Lunge (Set 2)'),\n",
       " ('https://youtu.be/wmuTxpIamKk', 'Dumbell Overhead (Set 2)'),\n",
       " ('https://youtu.be/AjdARwqGxhA', 'Dumbell Overhead (Set 3)'),\n",
       " ('https://youtu.be/hoIz_vA_UsY', 'Forward Lunge (Set 3)'),\n",
       " ('https://youtu.be/uCY6EEkp08o', 'Dumbell Goblet Squat (Set 1)'),\n",
       " ('https://youtu.be/Rloxp1R9Lyg', 'Inclined Dumbell Row (Set 3)'),\n",
       " ('https://youtu.be/oK3pmgtf-3I', 'Reverse Crunch (Set 2)'),\n",
       " ('https://youtu.be/63s7Ih2dDxI', 'Squat With Small Walks (Set 1)'),\n",
       " ('https://youtu.be/2FpV_pWowGY', 'Mountain Climbers (Set 2)'),\n",
       " ('https://youtu.be/31AAL92S6SE', 'Reverse Crunch (Set 3)'),\n",
       " ('https://youtu.be/orwzYZhVTxY', 'Dumbell PullOver (Set 2)'),\n",
       " ('https://youtu.be/TLLuL8kSJVc', 'Jumping Jacks (Set 1)'),\n",
       " ('https://youtu.be/Ma3YOWSUGWs', 'High Steps - F (Set 2)'),\n",
       " ('https://youtu.be/D6masMyERlY', 'Dumbell Romanian Deadlift - F (Set 3)'),\n",
       " ('https://youtu.be/aomXcAb4d3k', 'Flat Dumbell Press (Set 2)'),\n",
       " ('https://youtu.be/k6DgAXs15Ls', 'Moving Legs Raise (Set 2)'),\n",
       " ('https://youtu.be/s6-gzYqQLak', 'Squat Walks (Set 1)'),\n",
       " ('https://youtu.be/intkzTA3QYk', 'Triceps Extension (Set 2)'),\n",
       " ('https://youtu.be/-ZGoWIIPs_M', 'Barbell Row (Set 3)'),\n",
       " ('https://youtu.be/qJhB33Q3fjs', 'Dumbell Romanian Deadlift - F (Set 2)'),\n",
       " ('https://youtu.be/fMWN7wQWZcI', 'Weighted Russian Twist (Set 1)'),\n",
       " ('https://youtu.be/CqWtGQHq-NM', 'Burpee - F (Set 3)'),\n",
       " ('https://youtu.be/t3_RzL5gomY', 'Halfway Squat (Set 1)'),\n",
       " ('https://youtu.be/GyMouIZLw6o', 'Side Planks (Left - Set 1)'),\n",
       " ('https://youtu.be/Zktn7yEtj04', 'Weighted Russian Twist (Set 3)'),\n",
       " ('https://youtu.be/Xx7vnmT60aU', 'Squat Jump (Set 3)'),\n",
       " ('https://youtu.be/8mgQmm4b0b0', 'Seated Dumbell Raise (Set 2)'),\n",
       " ('https://youtu.be/JogFpCMfrwI', 'Seated Dumbell Raise (Set 3)'),\n",
       " ('https://youtu.be/S1LHkoL7GJ0', 'Declined Push Up (Set 3)'),\n",
       " ('https://youtu.be/RyHTlt_Ied4', 'Seated Dumbell Raise (Set 1)'),\n",
       " ('https://youtu.be/XDr4TX0P2mY', 'Dumbell Overhead (Set 1)'),\n",
       " ('https://youtu.be/MbCzpn3M_8c', 'Plank Twists (Set 2)'),\n",
       " ('https://youtu.be/7zkAAwkf0Ow', 'Burpee (Set 1)'),\n",
       " ('https://youtu.be/F2WUoAPCBzg', 'Romanian Deadlift (Set 2)'),\n",
       " ('https://youtu.be/jHyF3vH352Q', 'Mountain Climbers (Set 1)'),\n",
       " ('https://youtu.be/TxLPbkOkYmU', 'Superman Row (Set 3)'),\n",
       " ('https://youtu.be/5Nue74cFXlg', 'Laying Legs Raise (Set 2)'),\n",
       " ('https://youtu.be/wwOUHOPgX3w', 'Biceps Curl (Set 1)'),\n",
       " ('https://youtu.be/Wwm-xFFKjao', 'Triceps Dips (Set 2)'),\n",
       " ('https://youtu.be/LYKAIJFvhnM', 'Side Planks (Right - Set 4)'),\n",
       " ('https://youtu.be/6utEYPwvKTQ', 'Squat Walks (Set 2)'),\n",
       " ('https://youtu.be/W7SNKODa9Iw', 'Burpee (Set 2)'),\n",
       " ('https://youtu.be/OesdMSfDUkM', 'Declined Dumbell Press (Set 2)'),\n",
       " ('https://youtu.be/fgpIgCUYqEA', 'Flat Dumbell Press (Set 1)'),\n",
       " ('https://youtu.be/Xt1pq8C4iZA', 'Plank Twists (Set 3)'),\n",
       " ('https://youtu.be/DK8_Yc2D38I', 'High Step (Set 3)'),\n",
       " ('https://youtu.be/66AOseH20FY', 'Glute Bridge (Set 2)'),\n",
       " ('https://youtu.be/blzYe5aR8YI', 'Glute Kick Back (Left - Set 3)'),\n",
       " ('https://youtu.be/hMf-O2VuRZE', 'Glute Kick Back (Right - Set 2)'),\n",
       " ('https://youtu.be/SnQnoHMUJTo', 'Sumo Squat (Set 3)'),\n",
       " ('https://youtu.be/-Db8Tp9ipRE', 'Calf Raise (Set 2)'),\n",
       " ('https://youtu.be/6sfb5ks6Q-c', 'Flat Dumbell Press (Set 3)'),\n",
       " ('https://youtu.be/0lNOcuP547U', 'High Step (Set 2)'),\n",
       " ('https://youtu.be/PpPS6GUV0cA', 'Glute Kick Back (Left - Set 1)'),\n",
       " ('https://youtu.be/tlnUVpYSm3c', 'Bulgarian Split Squat (Set 3)'),\n",
       " ('https://youtu.be/IoGLDJsWtqw', 'Bulgarian Split Squat (Set 2)'),\n",
       " ('https://youtu.be/JIUUD36IGbU', 'Bulgarian Split Squat (Set 4)'),\n",
       " ('https://youtu.be/5J7VXBADJA8', 'Jumping Jacks - WU (Set 2)'),\n",
       " ('https://youtu.be/qGrOxp_1OEA', 'Jumping Jacks - WU (Set 3)'),\n",
       " ('https://youtu.be/2vYryYl-Wls', 'Crunch (Set 2)'),\n",
       " ('https://youtu.be/cjbW-zOEhog', 'Side Planks (Right - Set 6)'),\n",
       " ('https://youtu.be/wdq4VYVWRYo', 'Halfway Squat (Set 3)'),\n",
       " ('https://youtu.be/iQR4lp8ZFY0', 'Superman'),\n",
       " ('https://youtu.be/vOybCPeB71M', 'Shoulder Press'),\n",
       " ('https://youtu.be/Jtm4wqHloa0', 'Crunch F'),\n",
       " ('https://youtu.be/m_42fo0sC6k', 'Declined Push Up'),\n",
       " ('https://youtu.be/s1KS5NZ33WE', 'Flat Barbell Bench Press'),\n",
       " ('https://youtu.be/ojru9XKt6yw', 'Flutter Kick'),\n",
       " ('https://youtu.be/X1LbCA0OjNk', 'Overhead Triceps Extension F'),\n",
       " ('https://youtu.be/pbaXGi8QX8c', 'Glute Kick Back (Right - Set 4)'),\n",
       " ('https://youtu.be/IrnWn7fxPRQ', 'Arnold Dumbell Press (Set 2)'),\n",
       " ('https://youtu.be/gdKHXdTkrCk', 'Arnold Dumbell Press (Set 3)'),\n",
       " ('https://youtu.be/z8m3LSuCor0', 'Glute Bridge (Set 1)'),\n",
       " ('https://youtu.be/f2eiruJnTWA', 'Dumbell PullOver (Set 1)'),\n",
       " ('https://youtu.be/gdNsVku0edA', 'High Step (Set 1)'),\n",
       " ('https://youtu.be/Cr3FFV_8l5Q', 'Bulgarian Split Squat (Set 1)'),\n",
       " ('https://youtu.be/0EKModU0BiY', 'Plank F'),\n",
       " ('https://youtu.be/RZt-JZpym_k', 'Chest Fly - F (Set 2)'),\n",
       " ('https://youtu.be/E_Wmg2l3lSY', 'Dumbell Reverse Lunge (Set 2)'),\n",
       " ('https://youtu.be/z1pL8J-Wh1w', 'Triceps Dips F'),\n",
       " ('https://youtu.be/N2Y5YV_CAQg', 'Barbell Curl'),\n",
       " ('https://youtu.be/1HnFJS37z5s', 'Barbell Romanian Deadlift')]"
      ]
     },
     "execution_count": 1,
     "metadata": {},
     "output_type": "execute_result"
    }
   ],
   "source": [
    "import psycopg2\n",
    "import urllib.parse\n",
    "def encode(string):\n",
    "    string = string.replace(\"\\\\\", \"/\")\n",
    "    string = urllib.parse.quote(string)\n",
    "    string = 'https://django-api.ix-health.com/media/preview/' + string + '.gif'\n",
    "    return string\n",
    "\n",
    "\n",
    "DBHOST = '192.168.1.3'\n",
    "DBPORT = '11433'\n",
    "DBNAME = 'NineHealth_2'\n",
    "DBUSER = 'tranlong'\n",
    "DBPASSWORD = 'tranlong'\n",
    "\n",
    "conn = psycopg2.connect(\n",
    "    host=DBHOST,\n",
    "    port=DBPORT,\n",
    "    dbname=DBNAME,\n",
    "    user=DBUSER,\n",
    "    password=DBPASSWORD\n",
    ")\n",
    "\n",
    "cur = conn.cursor()\n",
    "cur.execute(\"SELECT link, title from health_video\")\n",
    "rows = cur.fetchall()\n",
    "rows\n",
    "# cur.close()"
   ]
  },
  {
   "cell_type": "code",
   "execution_count": 2,
   "metadata": {},
   "outputs": [
    {
     "name": "stdout",
     "output_type": "stream",
     "text": [
      "End time: 0:01:20.970000\n",
      "Mid time: 0:01:10.970000\n",
      "MoviePy - Building file edited_videos\\Glute Bridge (Set 3).gif with imageio.\n"
     ]
    },
    {
     "name": "stderr",
     "output_type": "stream",
     "text": [
      "                                                             \r"
     ]
    },
    {
     "name": "stdout",
     "output_type": "stream",
     "text": [
      "Done: Glute Bridge (Set 3)\n",
      "End time: 0:00:35.940000\n",
      "Mid time: 0:00:25.940000\n",
      "MoviePy - Building file edited_videos\\Jump Squat -F (Set 2).gif with imageio.\n"
     ]
    },
    {
     "name": "stderr",
     "output_type": "stream",
     "text": [
      "                                                             \r"
     ]
    },
    {
     "name": "stdout",
     "output_type": "stream",
     "text": [
      "Done: Jump Squat -F (Set 2)\n",
      "End time: 0:00:40.450000\n",
      "Mid time: 0:00:30.450000\n",
      "MoviePy - Building file edited_videos\\Side Planks (Left - Set 5).gif with imageio.\n"
     ]
    },
    {
     "name": "stderr",
     "output_type": "stream",
     "text": [
      "                                                              \r"
     ]
    },
    {
     "name": "stdout",
     "output_type": "stream",
     "text": [
      "Done: Side Planks (Left - Set 5)\n",
      "End time: 0:01:33.970000\n",
      "Mid time: 0:01:23.970000\n",
      "MoviePy - Building file edited_videos\\Romanian Deadlift (Set 1).gif with imageio.\n"
     ]
    },
    {
     "name": "stderr",
     "output_type": "stream",
     "text": [
      "                                                              \r"
     ]
    },
    {
     "name": "stdout",
     "output_type": "stream",
     "text": [
      "Done: Romanian Deadlift (Set 1)\n",
      "End time: 0:00:54.980000\n",
      "Mid time: 0:00:44.980000\n",
      "MoviePy - Building file edited_videos\\High Plank (Set 2).gif with imageio.\n"
     ]
    },
    {
     "name": "stderr",
     "output_type": "stream",
     "text": [
      "                                                             \r"
     ]
    },
    {
     "name": "stdout",
     "output_type": "stream",
     "text": [
      "Done: High Plank (Set 2)\n",
      "End time: 0:01:10.080000\n",
      "Mid time: 0:01:00.080000\n",
      "MoviePy - Building file edited_videos\\Climbing Crunch (Set 2).gif with imageio.\n"
     ]
    },
    {
     "name": "stderr",
     "output_type": "stream",
     "text": [
      "                                                             \r"
     ]
    },
    {
     "name": "stdout",
     "output_type": "stream",
     "text": [
      "Done: Climbing Crunch (Set 2)\n",
      "End time: 0:00:53.850000\n",
      "Mid time: 0:00:43.850000\n",
      "MoviePy - Building file edited_videos\\Halfway Squat (Set 2).gif with imageio.\n"
     ]
    },
    {
     "name": "stderr",
     "output_type": "stream",
     "text": [
      "                                                             \r"
     ]
    },
    {
     "name": "stdout",
     "output_type": "stream",
     "text": [
      "Done: Halfway Squat (Set 2)\n",
      "End time: 0:00:36.920000\n",
      "Mid time: 0:00:26.920000\n",
      "MoviePy - Building file edited_videos\\Squat Holds (Set 3).gif with imageio.\n"
     ]
    },
    {
     "name": "stderr",
     "output_type": "stream",
     "text": [
      "                                                              \r"
     ]
    },
    {
     "name": "stdout",
     "output_type": "stream",
     "text": [
      "Done: Squat Holds (Set 3)\n",
      "End time: 0:01:02.480000\n",
      "Mid time: 0:00:52.480000\n",
      "MoviePy - Building file edited_videos\\Dumbell Kickback (Set 1).gif with imageio.\n"
     ]
    },
    {
     "name": "stderr",
     "output_type": "stream",
     "text": [
      "                                                             \r"
     ]
    },
    {
     "name": "stdout",
     "output_type": "stream",
     "text": [
      "Done: Dumbell Kickback (Set 1)\n",
      "End time: 0:01:04.850000\n",
      "Mid time: 0:00:54.850000\n",
      "MoviePy - Building file edited_videos\\Plank Twists (Set 1).gif with imageio.\n"
     ]
    },
    {
     "name": "stderr",
     "output_type": "stream",
     "text": [
      "                                                             \r"
     ]
    },
    {
     "name": "stdout",
     "output_type": "stream",
     "text": [
      "Done: Plank Twists (Set 1)\n",
      "End time: 0:00:55.590000\n",
      "Mid time: 0:00:45.590000\n",
      "MoviePy - Building file edited_videos\\Dumbell Squat (Set 3).gif with imageio.\n"
     ]
    },
    {
     "name": "stderr",
     "output_type": "stream",
     "text": [
      "                                                             \r"
     ]
    },
    {
     "name": "stdout",
     "output_type": "stream",
     "text": [
      "Done: Dumbell Squat (Set 3)\n",
      "End time: 0:01:09.610000\n",
      "Mid time: 0:00:59.610000\n",
      "MoviePy - Building file edited_videos\\Biceps Curl (Set 3).gif with imageio.\n"
     ]
    },
    {
     "name": "stderr",
     "output_type": "stream",
     "text": [
      "                                                              \r"
     ]
    },
    {
     "name": "stdout",
     "output_type": "stream",
     "text": [
      "Done: Biceps Curl (Set 3)\n",
      "End time: 0:00:45.440000\n",
      "Mid time: 0:00:35.440000\n",
      "MoviePy - Building file edited_videos\\Dumbell Kickback (Set 2).gif with imageio.\n"
     ]
    },
    {
     "name": "stderr",
     "output_type": "stream",
     "text": [
      "                                                             \r"
     ]
    },
    {
     "name": "stdout",
     "output_type": "stream",
     "text": [
      "Done: Dumbell Kickback (Set 2)\n",
      "End time: 0:01:35.970000\n",
      "Mid time: 0:01:25.970000\n",
      "MoviePy - Building file edited_videos\\Dumbell Romanian Deadlift - F (Set 1).gif with imageio.\n"
     ]
    },
    {
     "name": "stderr",
     "output_type": "stream",
     "text": [
      "                                                             \r"
     ]
    },
    {
     "name": "stdout",
     "output_type": "stream",
     "text": [
      "Done: Dumbell Romanian Deadlift - F (Set 1)\n",
      "End time: 0:01:19.970000\n",
      "Mid time: 0:01:09.970000\n",
      "MoviePy - Building file edited_videos\\Chest Fly - F (Set 3).gif with imageio.\n"
     ]
    },
    {
     "name": "stderr",
     "output_type": "stream",
     "text": [
      "                                                             \r"
     ]
    },
    {
     "name": "stdout",
     "output_type": "stream",
     "text": [
      "Done: Chest Fly - F (Set 3)\n",
      "End time: 0:01:05.180000\n",
      "Mid time: 0:00:55.180000\n",
      "MoviePy - Building file edited_videos\\Climbing Crunch (Set 3).gif with imageio.\n"
     ]
    },
    {
     "name": "stderr",
     "output_type": "stream",
     "text": [
      "                                                              \r"
     ]
    },
    {
     "name": "stdout",
     "output_type": "stream",
     "text": [
      "Done: Climbing Crunch (Set 3)\n",
      "End time: 0:00:57.450000\n",
      "Mid time: 0:00:47.450000\n",
      "MoviePy - Building file edited_videos\\Weighted Shoulder Rotation (Set 1).gif with imageio.\n"
     ]
    },
    {
     "name": "stderr",
     "output_type": "stream",
     "text": [
      "                                                             \r"
     ]
    },
    {
     "name": "stdout",
     "output_type": "stream",
     "text": [
      "Done: Weighted Shoulder Rotation (Set 1)\n",
      "End time: 0:01:00.580000\n",
      "Mid time: 0:00:50.580000\n",
      "MoviePy - Building file edited_videos\\V Abs Holds (Set 1).gif with imageio.\n"
     ]
    },
    {
     "name": "stderr",
     "output_type": "stream",
     "text": [
      "                                                             \r"
     ]
    },
    {
     "name": "stdout",
     "output_type": "stream",
     "text": [
      "Done: V Abs Holds (Set 1)\n",
      "End time: 0:01:25.980000\n",
      "Mid time: 0:01:15.980000\n",
      "MoviePy - Building file edited_videos\\Romanian Deadlift (Set 3).gif with imageio.\n"
     ]
    },
    {
     "name": "stderr",
     "output_type": "stream",
     "text": [
      "                                                             \r"
     ]
    },
    {
     "name": "stdout",
     "output_type": "stream",
     "text": [
      "Done: Romanian Deadlift (Set 3)\n",
      "End time: 0:00:50.940000\n",
      "Mid time: 0:00:40.940000\n",
      "MoviePy - Building file edited_videos\\Burpee - F (Set 2).gif with imageio.\n"
     ]
    },
    {
     "name": "stderr",
     "output_type": "stream",
     "text": [
      "                                                              \r"
     ]
    },
    {
     "name": "stdout",
     "output_type": "stream",
     "text": [
      "Done: Burpee - F (Set 2)\n",
      "End time: 0:01:43.980000\n",
      "Mid time: 0:01:33.980000\n",
      "MoviePy - Building file edited_videos\\Chest Fly - F (Set 1).gif with imageio.\n"
     ]
    },
    {
     "name": "stderr",
     "output_type": "stream",
     "text": [
      "                                                              \r"
     ]
    },
    {
     "name": "stdout",
     "output_type": "stream",
     "text": [
      "Done: Chest Fly - F (Set 1)\n",
      "End time: 0:00:59.950000\n",
      "Mid time: 0:00:49.950000\n",
      "MoviePy - Building file edited_videos\\Weighted Shoulder Rotation (Set 3).gif with imageio.\n"
     ]
    },
    {
     "name": "stderr",
     "output_type": "stream",
     "text": [
      "                                                             \r"
     ]
    },
    {
     "name": "stdout",
     "output_type": "stream",
     "text": [
      "Done: Weighted Shoulder Rotation (Set 3)\n",
      "End time: 0:00:43.440000\n",
      "Mid time: 0:00:33.440000\n",
      "MoviePy - Building file edited_videos\\Jump Squat -F (Set 1).gif with imageio.\n"
     ]
    },
    {
     "name": "stderr",
     "output_type": "stream",
     "text": [
      "                                                             \r"
     ]
    },
    {
     "name": "stdout",
     "output_type": "stream",
     "text": [
      "Done: Jump Squat -F (Set 1)\n",
      "End time: 0:01:05.430000\n",
      "Mid time: 0:00:55.430000\n",
      "MoviePy - Building file edited_videos\\Jumping Jacks - WU (Set 1).gif with imageio.\n"
     ]
    },
    {
     "name": "stderr",
     "output_type": "stream",
     "text": [
      "                                                              \r"
     ]
    },
    {
     "name": "stdout",
     "output_type": "stream",
     "text": [
      "Done: Jumping Jacks - WU (Set 1)\n",
      "End time: 0:00:46.950000\n",
      "Mid time: 0:00:36.950000\n",
      "MoviePy - Building file edited_videos\\Dumbell Kickback (Set 2).gif with imageio.\n"
     ]
    },
    {
     "name": "stderr",
     "output_type": "stream",
     "text": [
      "                                                              \r"
     ]
    },
    {
     "name": "stdout",
     "output_type": "stream",
     "text": [
      "Done: Dumbell Kickback (Set 2)\n",
      "End time: 0:01:18.480000\n",
      "Mid time: 0:01:08.480000\n",
      "MoviePy - Building file edited_videos\\Climbing Crunch (Set 1).gif with imageio.\n"
     ]
    },
    {
     "name": "stderr",
     "output_type": "stream",
     "text": [
      "                                                             \r"
     ]
    },
    {
     "name": "stdout",
     "output_type": "stream",
     "text": [
      "Done: Climbing Crunch (Set 1)\n",
      "End time: 0:00:58.960000\n",
      "Mid time: 0:00:48.960000\n",
      "MoviePy - Building file edited_videos\\Weighted Shoulder Rotation (Set 2).gif with imageio.\n"
     ]
    },
    {
     "name": "stderr",
     "output_type": "stream",
     "text": [
      "                                                             \r"
     ]
    },
    {
     "name": "stdout",
     "output_type": "stream",
     "text": [
      "Done: Weighted Shoulder Rotation (Set 2)\n",
      "End time: 0:00:38.450000\n",
      "Mid time: 0:00:28.450000\n",
      "MoviePy - Building file edited_videos\\Russian Twist - F (Set 3).gif with imageio.\n"
     ]
    },
    {
     "name": "stderr",
     "output_type": "stream",
     "text": [
      "                                                             \r"
     ]
    },
    {
     "name": "stdout",
     "output_type": "stream",
     "text": [
      "Done: Russian Twist - F (Set 3)\n",
      "End time: 0:00:54.940000\n",
      "Mid time: 0:00:44.940000\n",
      "MoviePy - Building file edited_videos\\Bounce Squat (Set 3).gif with imageio.\n"
     ]
    },
    {
     "name": "stderr",
     "output_type": "stream",
     "text": [
      "                                                              \r"
     ]
    },
    {
     "name": "stdout",
     "output_type": "stream",
     "text": [
      "Done: Bounce Squat (Set 3)\n",
      "End time: 0:01:00.950000\n",
      "Mid time: 0:00:50.950000\n",
      "MoviePy - Building file edited_videos\\Weighted Russian Twist (Set 2).gif with imageio.\n"
     ]
    },
    {
     "name": "stderr",
     "output_type": "stream",
     "text": [
      "                                                             \r"
     ]
    },
    {
     "name": "stdout",
     "output_type": "stream",
     "text": [
      "Done: Weighted Russian Twist (Set 2)\n",
      "End time: 0:00:35.940000\n",
      "Mid time: 0:00:25.940000\n",
      "MoviePy - Building file edited_videos\\Jump Squat -F (Set 3).gif with imageio.\n"
     ]
    },
    {
     "name": "stderr",
     "output_type": "stream",
     "text": [
      "                                                             \r"
     ]
    },
    {
     "name": "stdout",
     "output_type": "stream",
     "text": [
      "Done: Jump Squat -F (Set 3)\n",
      "End time: 0:01:05.940000\n",
      "Mid time: 0:00:55.940000\n",
      "MoviePy - Building file edited_videos\\Plank (Set 3).gif with imageio.\n"
     ]
    },
    {
     "name": "stderr",
     "output_type": "stream",
     "text": [
      "                                                             \r"
     ]
    },
    {
     "name": "stdout",
     "output_type": "stream",
     "text": [
      "Done: Plank (Set 3)\n",
      "End time: 0:00:53.940000\n",
      "Mid time: 0:00:43.940000\n",
      "MoviePy - Building file edited_videos\\Russian Twist - F (Set 1).gif with imageio.\n"
     ]
    },
    {
     "name": "stderr",
     "output_type": "stream",
     "text": [
      "                                                             \r"
     ]
    },
    {
     "name": "stdout",
     "output_type": "stream",
     "text": [
      "Done: Russian Twist - F (Set 1)\n",
      "End time: 0:01:06.460000\n",
      "Mid time: 0:00:56.460000\n",
      "MoviePy - Building file edited_videos\\V Abs Holds (Set 1).gif with imageio.\n"
     ]
    },
    {
     "name": "stderr",
     "output_type": "stream",
     "text": [
      "                                                              \r"
     ]
    },
    {
     "name": "stdout",
     "output_type": "stream",
     "text": [
      "Done: V Abs Holds (Set 1)\n",
      "End time: 0:01:13.470000\n",
      "Mid time: 0:01:03.470000\n",
      "MoviePy - Building file edited_videos\\Biceps Curl (Set 2).gif with imageio.\n"
     ]
    },
    {
     "name": "stderr",
     "output_type": "stream",
     "text": [
      "                                                             \r"
     ]
    },
    {
     "name": "stdout",
     "output_type": "stream",
     "text": [
      "Done: Biceps Curl (Set 2)\n",
      "End time: 0:00:43.840000\n",
      "Mid time: 0:00:33.840000\n",
      "MoviePy - Building file edited_videos\\Switch Lunge (Set 1).gif with imageio.\n"
     ]
    },
    {
     "name": "stderr",
     "output_type": "stream",
     "text": [
      "                                                              \r"
     ]
    },
    {
     "name": "stdout",
     "output_type": "stream",
     "text": [
      "Done: Switch Lunge (Set 1)\n",
      "End time: 0:00:43.440000\n",
      "Mid time: 0:00:33.440000\n",
      "MoviePy - Building file edited_videos\\Switch Lunge (Set 2).gif with imageio.\n"
     ]
    },
    {
     "name": "stderr",
     "output_type": "stream",
     "text": [
      "                                                              \r"
     ]
    },
    {
     "name": "stdout",
     "output_type": "stream",
     "text": [
      "Done: Switch Lunge (Set 2)\n",
      "End time: 0:00:32.830000\n",
      "Mid time: 0:00:22.830000\n",
      "MoviePy - Building file edited_videos\\Switch Lunge (Set 3).gif with imageio.\n"
     ]
    },
    {
     "name": "stderr",
     "output_type": "stream",
     "text": [
      "                                                              \r"
     ]
    },
    {
     "name": "stdout",
     "output_type": "stream",
     "text": [
      "Done: Switch Lunge (Set 3)\n",
      "End time: 0:00:57.590000\n",
      "Mid time: 0:00:47.590000\n",
      "MoviePy - Building file edited_videos\\Dumbell Squat (Set 2).gif with imageio.\n"
     ]
    },
    {
     "name": "stderr",
     "output_type": "stream",
     "text": [
      "                                                              \r"
     ]
    },
    {
     "name": "stdout",
     "output_type": "stream",
     "text": [
      "Done: Dumbell Squat (Set 2)\n",
      "End time: 0:01:24.990000\n",
      "Mid time: 0:01:14.990000\n",
      "MoviePy - Building file edited_videos\\Sumo Squat (Set 1).gif with imageio.\n"
     ]
    },
    {
     "name": "stderr",
     "output_type": "stream",
     "text": [
      "                                                             \r"
     ]
    },
    {
     "name": "stdout",
     "output_type": "stream",
     "text": [
      "Done: Sumo Squat (Set 1)\n",
      "End time: 0:00:58.960000\n",
      "Mid time: 0:00:48.960000\n",
      "MoviePy - Building file edited_videos\\Declined Push Up (Set 2).gif with imageio.\n"
     ]
    },
    {
     "name": "stderr",
     "output_type": "stream",
     "text": [
      "                                                              \r"
     ]
    },
    {
     "name": "stdout",
     "output_type": "stream",
     "text": [
      "Done: Declined Push Up (Set 2)\n",
      "End time: 0:00:57.450000\n",
      "Mid time: 0:00:47.450000\n",
      "MoviePy - Building file edited_videos\\Dumbell Goblet Squat (Set 2).gif with imageio.\n"
     ]
    },
    {
     "name": "stderr",
     "output_type": "stream",
     "text": [
      "                                                             \r"
     ]
    },
    {
     "name": "stdout",
     "output_type": "stream",
     "text": [
      "Done: Dumbell Goblet Squat (Set 2)\n",
      "End time: 0:01:11.980000\n",
      "Mid time: 0:01:01.980000\n",
      "MoviePy - Building file edited_videos\\Moving Legs Raise (Set 3).gif with imageio.\n"
     ]
    },
    {
     "name": "stderr",
     "output_type": "stream",
     "text": [
      "                                                              \r"
     ]
    },
    {
     "name": "stdout",
     "output_type": "stream",
     "text": [
      "Done: Moving Legs Raise (Set 3)\n",
      "End time: 0:00:53.450000\n",
      "Mid time: 0:00:43.450000\n",
      "MoviePy - Building file edited_videos\\Laying Legs Raise (Set 1).gif with imageio.\n"
     ]
    },
    {
     "name": "stderr",
     "output_type": "stream",
     "text": [
      "                                                             \r"
     ]
    },
    {
     "name": "stdout",
     "output_type": "stream",
     "text": [
      "Done: Laying Legs Raise (Set 1)\n",
      "End time: 0:00:41.380000\n",
      "Mid time: 0:00:31.380000\n",
      "MoviePy - Building file edited_videos\\Jumping Jacks - F (Set 3).gif with imageio.\n"
     ]
    },
    {
     "name": "stderr",
     "output_type": "stream",
     "text": [
      "                                                             \r"
     ]
    },
    {
     "name": "stdout",
     "output_type": "stream",
     "text": [
      "Done: Jumping Jacks - F (Set 3)\n",
      "End time: 0:00:39.940000\n",
      "Mid time: 0:00:29.940000\n",
      "MoviePy - Building file edited_videos\\Russian Twist - F (Set 2).gif with imageio.\n"
     ]
    },
    {
     "name": "stderr",
     "output_type": "stream",
     "text": [
      "                                                             \r"
     ]
    },
    {
     "name": "stdout",
     "output_type": "stream",
     "text": [
      "Done: Russian Twist - F (Set 2)\n",
      "End time: 0:01:12.980000\n",
      "Mid time: 0:01:02.980000\n",
      "MoviePy - Building file edited_videos\\Sumo Squat (Set 2).gif with imageio.\n"
     ]
    },
    {
     "name": "stderr",
     "output_type": "stream",
     "text": [
      "                                                             \r"
     ]
    },
    {
     "name": "stdout",
     "output_type": "stream",
     "text": [
      "Done: Sumo Squat (Set 2)\n",
      "End time: 0:00:35.870000\n",
      "Mid time: 0:00:25.870000\n",
      "MoviePy - Building file edited_videos\\Jumping Jacks - F (Set 2).gif with imageio.\n"
     ]
    },
    {
     "name": "stderr",
     "output_type": "stream",
     "text": [
      "                                                             \r"
     ]
    },
    {
     "name": "stdout",
     "output_type": "stream",
     "text": [
      "Done: Jumping Jacks - F (Set 2)\n",
      "End time: 0:00:57.450000\n",
      "Mid time: 0:00:47.450000\n",
      "MoviePy - Building file edited_videos\\Dumbell Goblet Squat (Set 3).gif with imageio.\n"
     ]
    },
    {
     "name": "stderr",
     "output_type": "stream",
     "text": [
      "                                                             \r"
     ]
    },
    {
     "name": "stdout",
     "output_type": "stream",
     "text": [
      "Done: Dumbell Goblet Squat (Set 3)\n",
      "End time: 0:01:18.480000\n",
      "Mid time: 0:01:08.480000\n",
      "MoviePy - Building file edited_videos\\Declined Push Up (Set 1).gif with imageio.\n"
     ]
    },
    {
     "name": "stderr",
     "output_type": "stream",
     "text": [
      "                                                              \r"
     ]
    },
    {
     "name": "stdout",
     "output_type": "stream",
     "text": [
      "Done: Declined Push Up (Set 1)\n",
      "End time: 0:00:54.940000\n",
      "Mid time: 0:00:44.940000\n",
      "MoviePy - Building file edited_videos\\Bounce Squat (Set 2).gif with imageio.\n"
     ]
    },
    {
     "name": "stderr",
     "output_type": "stream",
     "text": [
      "                                                              \r"
     ]
    },
    {
     "name": "stdout",
     "output_type": "stream",
     "text": [
      "Done: Bounce Squat (Set 2)\n",
      "End time: 0:00:50.430000\n",
      "Mid time: 0:00:40.430000\n",
      "MoviePy - Building file edited_videos\\High Steps - F (Set 1).gif with imageio.\n"
     ]
    },
    {
     "name": "stderr",
     "output_type": "stream",
     "text": [
      "                                                              \r"
     ]
    },
    {
     "name": "stdout",
     "output_type": "stream",
     "text": [
      "Done: High Steps - F (Set 1)\n",
      "End time: 0:00:39.450000\n",
      "Mid time: 0:00:29.450000\n",
      "MoviePy - Building file edited_videos\\Squat Holds (Set 1).gif with imageio.\n"
     ]
    },
    {
     "name": "stderr",
     "output_type": "stream",
     "text": [
      "                                                              \r"
     ]
    },
    {
     "name": "stdout",
     "output_type": "stream",
     "text": [
      "Done: Squat Holds (Set 1)\n",
      "End time: 0:01:41.890000\n",
      "Mid time: 0:01:31.890000\n",
      "MoviePy - Building file edited_videos\\Superman Row (Set 1).gif with imageio.\n"
     ]
    },
    {
     "name": "stderr",
     "output_type": "stream",
     "text": [
      "                                                             \r"
     ]
    },
    {
     "name": "stdout",
     "output_type": "stream",
     "text": [
      "Done: Superman Row (Set 1)\n",
      "End time: 0:02:20.180000\n",
      "Mid time: 0:02:10.180000\n",
      "MoviePy - Building file edited_videos\\Dumbell Lunge (Set 1).gif with imageio.\n"
     ]
    },
    {
     "name": "stderr",
     "output_type": "stream",
     "text": [
      "                                                              \r"
     ]
    },
    {
     "name": "stdout",
     "output_type": "stream",
     "text": [
      "Done: Dumbell Lunge (Set 1)\n",
      "End time: 0:01:30.510000\n",
      "Mid time: 0:01:20.510000\n",
      "MoviePy - Building file edited_videos\\Triceps Extension (Set 1).gif with imageio.\n"
     ]
    },
    {
     "name": "stderr",
     "output_type": "stream",
     "text": [
      "                                                              \r"
     ]
    },
    {
     "name": "stdout",
     "output_type": "stream",
     "text": [
      "Done: Triceps Extension (Set 1)\n",
      "End time: 0:00:30.420000\n",
      "Mid time: 0:00:20.420000\n",
      "MoviePy - Building file edited_videos\\Mountain Climbers (Set 3).gif with imageio.\n"
     ]
    },
    {
     "name": "stderr",
     "output_type": "stream",
     "text": [
      "                                                             \r"
     ]
    },
    {
     "name": "stdout",
     "output_type": "stream",
     "text": [
      "Done: Mountain Climbers (Set 3)\n",
      "End time: 0:01:04.950000\n",
      "Mid time: 0:00:54.950000\n",
      "MoviePy - Building file edited_videos\\Forward Lunge (Set 1).gif with imageio.\n"
     ]
    },
    {
     "name": "stderr",
     "output_type": "stream",
     "text": [
      "                                                              \r"
     ]
    },
    {
     "name": "stdout",
     "output_type": "stream",
     "text": [
      "Done: Forward Lunge (Set 1)\n",
      "End time: 0:00:59.440000\n",
      "Mid time: 0:00:49.440000\n",
      "MoviePy - Building file edited_videos\\Bounce Squat (Set 1).gif with imageio.\n"
     ]
    },
    {
     "name": "stderr",
     "output_type": "stream",
     "text": [
      "                                                              \r"
     ]
    },
    {
     "name": "stdout",
     "output_type": "stream",
     "text": [
      "Done: Bounce Squat (Set 1)\n",
      "End time: 0:00:49.440000\n",
      "Mid time: 0:00:39.440000\n",
      "MoviePy - Building file edited_videos\\Laying Legs Raise (Set 3).gif with imageio.\n"
     ]
    },
    {
     "name": "stderr",
     "output_type": "stream",
     "text": [
      "                                                             \r"
     ]
    },
    {
     "name": "stdout",
     "output_type": "stream",
     "text": [
      "Done: Laying Legs Raise (Set 3)\n",
      "End time: 0:01:08.940000\n",
      "Mid time: 0:00:58.940000\n",
      "MoviePy - Building file edited_videos\\Declined Dumbell Press (Set 3).gif with imageio.\n"
     ]
    },
    {
     "name": "stderr",
     "output_type": "stream",
     "text": [
      "                                                              \r"
     ]
    },
    {
     "name": "stdout",
     "output_type": "stream",
     "text": [
      "Done: Declined Dumbell Press (Set 3)\n",
      "End time: 0:01:38.480000\n",
      "Mid time: 0:01:28.480000\n",
      "MoviePy - Building file edited_videos\\Dumbell Chest Fly (Set 3).gif with imageio.\n"
     ]
    },
    {
     "name": "stderr",
     "output_type": "stream",
     "text": [
      "                                                             \r"
     ]
    },
    {
     "name": "stdout",
     "output_type": "stream",
     "text": [
      "Done: Dumbell Chest Fly (Set 3)\n",
      "End time: 0:01:49.510000\n",
      "Mid time: 0:01:39.510000\n",
      "MoviePy - Building file edited_videos\\Dumbell Chest Fly (Set 1).gif with imageio.\n"
     ]
    },
    {
     "name": "stderr",
     "output_type": "stream",
     "text": [
      "                                                             \r"
     ]
    },
    {
     "name": "stdout",
     "output_type": "stream",
     "text": [
      "Done: Dumbell Chest Fly (Set 1)\n",
      "End time: 0:01:32.970000\n",
      "Mid time: 0:01:22.970000\n",
      "MoviePy - Building file edited_videos\\Dumbell Chest Fly (Set 2).gif with imageio.\n"
     ]
    },
    {
     "name": "stderr",
     "output_type": "stream",
     "text": [
      "                                                             \r"
     ]
    },
    {
     "name": "stdout",
     "output_type": "stream",
     "text": [
      "Done: Dumbell Chest Fly (Set 2)\n",
      "End time: 0:00:57.930000\n",
      "Mid time: 0:00:47.930000\n",
      "MoviePy - Building file edited_videos\\Burpee (Set 3).gif with imageio.\n"
     ]
    },
    {
     "name": "stderr",
     "output_type": "stream",
     "text": [
      "                                                             \r"
     ]
    },
    {
     "name": "stdout",
     "output_type": "stream",
     "text": [
      "Done: Burpee (Set 3)\n",
      "End time: 0:01:11.470000\n",
      "Mid time: 0:01:01.470000\n",
      "MoviePy - Building file edited_videos\\Barbell Row (Set 2).gif with imageio.\n"
     ]
    },
    {
     "name": "stderr",
     "output_type": "stream",
     "text": [
      "                                                              \r"
     ]
    },
    {
     "name": "stdout",
     "output_type": "stream",
     "text": [
      "Done: Barbell Row (Set 2)\n",
      "End time: 0:01:03.090000\n",
      "Mid time: 0:00:53.090000\n",
      "MoviePy - Building file edited_videos\\Squat With Small Walks (Set 2).gif with imageio.\n"
     ]
    },
    {
     "name": "stderr",
     "output_type": "stream",
     "text": [
      "                                                              \r"
     ]
    },
    {
     "name": "stdout",
     "output_type": "stream",
     "text": [
      "Done: Squat With Small Walks (Set 2)\n",
      "End time: 0:00:40.450000\n",
      "Mid time: 0:00:30.450000\n",
      "MoviePy - Building file edited_videos\\Side Planks (Right - Set 2).gif with imageio.\n"
     ]
    },
    {
     "name": "stderr",
     "output_type": "stream",
     "text": [
      "                                                             \r"
     ]
    },
    {
     "name": "stdout",
     "output_type": "stream",
     "text": [
      "Done: Side Planks (Right - Set 2)\n",
      "End time: 0:01:08.940000\n",
      "Mid time: 0:00:58.940000\n",
      "MoviePy - Building file edited_videos\\Triceps Extension (Set 3).gif with imageio.\n"
     ]
    },
    {
     "name": "stderr",
     "output_type": "stream",
     "text": [
      "                                                             \r"
     ]
    },
    {
     "name": "stdout",
     "output_type": "stream",
     "text": [
      "Done: Triceps Extension (Set 3)\n",
      "End time: 0:01:15.490000\n",
      "Mid time: 0:01:05.490000\n",
      "MoviePy - Building file edited_videos\\Moving Legs Raise (Set 1).gif with imageio.\n"
     ]
    },
    {
     "name": "stderr",
     "output_type": "stream",
     "text": [
      "                                                             \r"
     ]
    },
    {
     "name": "stdout",
     "output_type": "stream",
     "text": [
      "Done: Moving Legs Raise (Set 1)\n"
     ]
    },
    {
     "ename": "VideoUnavailable",
     "evalue": "-GuHCXwJkqM is unavailable",
     "output_type": "error",
     "traceback": [
      "\u001b[1;31m---------------------------------------------------------------------------\u001b[0m",
      "\u001b[1;31mVideoUnavailable\u001b[0m                          Traceback (most recent call last)",
      "Cell \u001b[1;32mIn[2], line 9\u001b[0m\n\u001b[0;32m      7\u001b[0m link \u001b[38;5;241m=\u001b[39m row[\u001b[38;5;241m0\u001b[39m]\n\u001b[0;32m      8\u001b[0m yt \u001b[38;5;241m=\u001b[39m pytube\u001b[38;5;241m.\u001b[39mYouTube(link)\n\u001b[1;32m----> 9\u001b[0m stream \u001b[38;5;241m=\u001b[39m \u001b[43myt\u001b[49m\u001b[38;5;241;43m.\u001b[39;49m\u001b[43mstreams\u001b[49m\u001b[38;5;241m.\u001b[39mget_highest_resolution()\n\u001b[0;32m     10\u001b[0m video_path \u001b[38;5;241m=\u001b[39m stream\u001b[38;5;241m.\u001b[39mdownload()\n\u001b[0;32m     11\u001b[0m original_clip \u001b[38;5;241m=\u001b[39m VideoFileClip(video_path)\n",
      "File \u001b[1;32md:\\0_Materials\\moviepy\\.venv\\lib\\site-packages\\pytube\\__main__.py:295\u001b[0m, in \u001b[0;36mYouTube.streams\u001b[1;34m(self)\u001b[0m\n\u001b[0;32m    289\u001b[0m \u001b[38;5;129m@property\u001b[39m\n\u001b[0;32m    290\u001b[0m \u001b[38;5;28;01mdef\u001b[39;00m \u001b[38;5;21mstreams\u001b[39m(\u001b[38;5;28mself\u001b[39m) \u001b[38;5;241m-\u001b[39m\u001b[38;5;241m>\u001b[39m StreamQuery:\n\u001b[0;32m    291\u001b[0m \u001b[38;5;250m    \u001b[39m\u001b[38;5;124;03m\"\"\"Interface to query both adaptive (DASH) and progressive streams.\u001b[39;00m\n\u001b[0;32m    292\u001b[0m \n\u001b[0;32m    293\u001b[0m \u001b[38;5;124;03m    :rtype: :class:`StreamQuery <StreamQuery>`.\u001b[39;00m\n\u001b[0;32m    294\u001b[0m \u001b[38;5;124;03m    \"\"\"\u001b[39;00m\n\u001b[1;32m--> 295\u001b[0m     \u001b[38;5;28;43mself\u001b[39;49m\u001b[38;5;241;43m.\u001b[39;49m\u001b[43mcheck_availability\u001b[49m\u001b[43m(\u001b[49m\u001b[43m)\u001b[49m\n\u001b[0;32m    296\u001b[0m     \u001b[38;5;28;01mreturn\u001b[39;00m StreamQuery(\u001b[38;5;28mself\u001b[39m\u001b[38;5;241m.\u001b[39mfmt_streams)\n",
      "File \u001b[1;32md:\\0_Materials\\moviepy\\.venv\\lib\\site-packages\\pytube\\__main__.py:231\u001b[0m, in \u001b[0;36mYouTube.check_availability\u001b[1;34m(self)\u001b[0m\n\u001b[0;32m    229\u001b[0m \u001b[38;5;28;01melif\u001b[39;00m status \u001b[38;5;241m==\u001b[39m \u001b[38;5;124m'\u001b[39m\u001b[38;5;124mERROR\u001b[39m\u001b[38;5;124m'\u001b[39m:\n\u001b[0;32m    230\u001b[0m     \u001b[38;5;28;01mif\u001b[39;00m reason \u001b[38;5;241m==\u001b[39m \u001b[38;5;124m'\u001b[39m\u001b[38;5;124mVideo unavailable\u001b[39m\u001b[38;5;124m'\u001b[39m:\n\u001b[1;32m--> 231\u001b[0m         \u001b[38;5;28;01mraise\u001b[39;00m exceptions\u001b[38;5;241m.\u001b[39mVideoUnavailable(video_id\u001b[38;5;241m=\u001b[39m\u001b[38;5;28mself\u001b[39m\u001b[38;5;241m.\u001b[39mvideo_id)\n\u001b[0;32m    232\u001b[0m \u001b[38;5;28;01melif\u001b[39;00m status \u001b[38;5;241m==\u001b[39m \u001b[38;5;124m'\u001b[39m\u001b[38;5;124mLIVE_STREAM\u001b[39m\u001b[38;5;124m'\u001b[39m:\n\u001b[0;32m    233\u001b[0m     \u001b[38;5;28;01mraise\u001b[39;00m exceptions\u001b[38;5;241m.\u001b[39mLiveStreamError(video_id\u001b[38;5;241m=\u001b[39m\u001b[38;5;28mself\u001b[39m\u001b[38;5;241m.\u001b[39mvideo_id)\n",
      "\u001b[1;31mVideoUnavailable\u001b[0m: -GuHCXwJkqM is unavailable"
     ]
    }
   ],
   "source": [
    "import pytube, os\n",
    "import datetime\n",
    "from moviepy.editor import VideoFileClip\n",
    "\n",
    "\n",
    "for row in rows[:]:\n",
    "    link = row[0]\n",
    "    yt = pytube.YouTube(link)\n",
    "    stream = yt.streams.get_highest_resolution()\n",
    "    video_path = stream.download()\n",
    "    original_clip = VideoFileClip(video_path)\n",
    "    \n",
    "    end_time = original_clip.duration\n",
    "\n",
    "    # Calculate the mid time\n",
    "    start_time = end_time - 10\n",
    "\n",
    "    # Convert the times to the format 'hh:mm:ss.ms'\n",
    "    end_time_str = str(datetime.timedelta(seconds=end_time))\n",
    "    start_time = str(datetime.timedelta(seconds=start_time))\n",
    "\n",
    "    print('End time:', end_time_str)\n",
    "    print('Mid time:', start_time)\n",
    "    \n",
    "    # start_time, end_time = ('00:00:06.270', '00:00:16.200')\n",
    "    subclip = original_clip.subclip(start_time, end_time)\n",
    "    subclip = subclip.fadein(duration=2).fadeout(duration=2)\n",
    "    gif_filename = os.path.join('edited_videos', row[1] + '.gif')\n",
    "    subclip.write_gif(gif_filename, fps=10)\n",
    "    original_clip.close()\n",
    "    os.remove(video_path)\n",
    "    cur.execute(\"UPDATE health_video SET preview_link = %s WHERE title = %s\", (encode(row[1]), row[1]))\n",
    "    conn.commit()\n",
    "    print(\"Done:\", row[1])\n"
   ]
  },
  {
   "cell_type": "code",
   "execution_count": 12,
   "metadata": {},
   "outputs": [
    {
     "name": "stdout",
     "output_type": "stream",
     "text": [
      "End time: 0:00:57.450000\n",
      "Mid time: 0:00:47.450000\n",
      "MoviePy - Building file edited_videos\\Dumbell Goblet Squat (Set 3).gif with imageio.\n"
     ]
    },
    {
     "name": "stderr",
     "output_type": "stream",
     "text": [
      "                                                             \r"
     ]
    },
    {
     "name": "stdout",
     "output_type": "stream",
     "text": [
      "Done: Dumbell Goblet Squat (Set 3)\n",
      "End time: 0:01:18.480000\n",
      "Mid time: 0:01:08.480000\n",
      "MoviePy - Building file edited_videos\\Declined Push Up (Set 1).gif with imageio.\n"
     ]
    },
    {
     "name": "stderr",
     "output_type": "stream",
     "text": [
      "                                                             \r"
     ]
    },
    {
     "name": "stdout",
     "output_type": "stream",
     "text": [
      "Done: Declined Push Up (Set 1)\n",
      "End time: 0:00:54.940000\n",
      "Mid time: 0:00:44.940000\n",
      "MoviePy - Building file edited_videos\\Bounce Squat (Set 2).gif with imageio.\n"
     ]
    },
    {
     "name": "stderr",
     "output_type": "stream",
     "text": [
      "                                                             \r"
     ]
    },
    {
     "name": "stdout",
     "output_type": "stream",
     "text": [
      "Done: Bounce Squat (Set 2)\n",
      "End time: 0:00:50.430000\n",
      "Mid time: 0:00:40.430000\n",
      "MoviePy - Building file edited_videos\\High Steps - F (Set 1).gif with imageio.\n"
     ]
    },
    {
     "name": "stderr",
     "output_type": "stream",
     "text": [
      "                                                             \r"
     ]
    },
    {
     "name": "stdout",
     "output_type": "stream",
     "text": [
      "Done: High Steps - F (Set 1)\n",
      "End time: 0:00:39.450000\n",
      "Mid time: 0:00:29.450000\n",
      "MoviePy - Building file edited_videos\\Squat Holds (Set 1).gif with imageio.\n"
     ]
    },
    {
     "name": "stderr",
     "output_type": "stream",
     "text": [
      "                                                              \r"
     ]
    },
    {
     "name": "stdout",
     "output_type": "stream",
     "text": [
      "Done: Squat Holds (Set 1)\n",
      "End time: 0:01:41.890000\n",
      "Mid time: 0:01:31.890000\n",
      "MoviePy - Building file edited_videos\\Superman Row (Set 1).gif with imageio.\n"
     ]
    },
    {
     "name": "stderr",
     "output_type": "stream",
     "text": [
      "                                                             \r"
     ]
    },
    {
     "name": "stdout",
     "output_type": "stream",
     "text": [
      "Done: Superman Row (Set 1)\n",
      "End time: 0:02:20.180000\n",
      "Mid time: 0:02:10.180000\n",
      "MoviePy - Building file edited_videos\\Dumbell Lunge (Set 1).gif with imageio.\n"
     ]
    },
    {
     "name": "stderr",
     "output_type": "stream",
     "text": [
      "                                                             \r"
     ]
    },
    {
     "name": "stdout",
     "output_type": "stream",
     "text": [
      "Done: Dumbell Lunge (Set 1)\n",
      "End time: 0:01:30.510000\n",
      "Mid time: 0:01:20.510000\n",
      "MoviePy - Building file edited_videos\\Triceps Extension (Set 1).gif with imageio.\n"
     ]
    },
    {
     "name": "stderr",
     "output_type": "stream",
     "text": [
      "                                                             \r"
     ]
    },
    {
     "name": "stdout",
     "output_type": "stream",
     "text": [
      "Done: Triceps Extension (Set 1)\n",
      "End time: 0:00:30.420000\n",
      "Mid time: 0:00:20.420000\n",
      "MoviePy - Building file edited_videos\\Mountain Climbers (Set 3).gif with imageio.\n"
     ]
    },
    {
     "name": "stderr",
     "output_type": "stream",
     "text": [
      "                                                              \r"
     ]
    },
    {
     "name": "stdout",
     "output_type": "stream",
     "text": [
      "Done: Mountain Climbers (Set 3)\n",
      "End time: 0:01:04.950000\n",
      "Mid time: 0:00:54.950000\n",
      "MoviePy - Building file edited_videos\\Forward Lunge (Set 1).gif with imageio.\n"
     ]
    },
    {
     "name": "stderr",
     "output_type": "stream",
     "text": [
      "                                                             \r"
     ]
    },
    {
     "name": "stdout",
     "output_type": "stream",
     "text": [
      "Done: Forward Lunge (Set 1)\n",
      "End time: 0:00:59.440000\n",
      "Mid time: 0:00:49.440000\n",
      "MoviePy - Building file edited_videos\\Bounce Squat (Set 1).gif with imageio.\n"
     ]
    },
    {
     "name": "stderr",
     "output_type": "stream",
     "text": [
      "                                                             \r"
     ]
    },
    {
     "name": "stdout",
     "output_type": "stream",
     "text": [
      "Done: Bounce Squat (Set 1)\n",
      "End time: 0:00:49.440000\n",
      "Mid time: 0:00:39.440000\n",
      "MoviePy - Building file edited_videos\\Laying Legs Raise (Set 3).gif with imageio.\n"
     ]
    },
    {
     "name": "stderr",
     "output_type": "stream",
     "text": [
      "                                                             \r"
     ]
    },
    {
     "name": "stdout",
     "output_type": "stream",
     "text": [
      "Done: Laying Legs Raise (Set 3)\n",
      "End time: 0:01:08.940000\n",
      "Mid time: 0:00:58.940000\n",
      "MoviePy - Building file edited_videos\\Declined Dumbell Press (Set 3).gif with imageio.\n"
     ]
    },
    {
     "name": "stderr",
     "output_type": "stream",
     "text": [
      "                                                             \r"
     ]
    },
    {
     "name": "stdout",
     "output_type": "stream",
     "text": [
      "Done: Declined Dumbell Press (Set 3)\n",
      "End time: 0:01:38.480000\n",
      "Mid time: 0:01:28.480000\n",
      "MoviePy - Building file edited_videos\\Dumbell Chest Fly (Set 3).gif with imageio.\n"
     ]
    },
    {
     "name": "stderr",
     "output_type": "stream",
     "text": [
      "                                                             \r"
     ]
    },
    {
     "name": "stdout",
     "output_type": "stream",
     "text": [
      "Done: Dumbell Chest Fly (Set 3)\n",
      "End time: 0:01:49.510000\n",
      "Mid time: 0:01:39.510000\n",
      "MoviePy - Building file edited_videos\\Dumbell Chest Fly (Set 1).gif with imageio.\n"
     ]
    },
    {
     "name": "stderr",
     "output_type": "stream",
     "text": [
      "                                                             \r"
     ]
    },
    {
     "name": "stdout",
     "output_type": "stream",
     "text": [
      "Done: Dumbell Chest Fly (Set 1)\n",
      "End time: 0:01:32.970000\n",
      "Mid time: 0:01:22.970000\n",
      "MoviePy - Building file edited_videos\\Dumbell Chest Fly (Set 2).gif with imageio.\n"
     ]
    },
    {
     "name": "stderr",
     "output_type": "stream",
     "text": [
      "                                                             \r"
     ]
    },
    {
     "name": "stdout",
     "output_type": "stream",
     "text": [
      "Done: Dumbell Chest Fly (Set 2)\n",
      "End time: 0:00:57.930000\n",
      "Mid time: 0:00:47.930000\n",
      "MoviePy - Building file edited_videos\\Burpee (Set 3).gif with imageio.\n"
     ]
    },
    {
     "name": "stderr",
     "output_type": "stream",
     "text": [
      "                                                             \r"
     ]
    },
    {
     "name": "stdout",
     "output_type": "stream",
     "text": [
      "Done: Burpee (Set 3)\n",
      "End time: 0:01:11.470000\n",
      "Mid time: 0:01:01.470000\n",
      "MoviePy - Building file edited_videos\\Barbell Row (Set 2).gif with imageio.\n"
     ]
    },
    {
     "name": "stderr",
     "output_type": "stream",
     "text": [
      "                                                             \r"
     ]
    },
    {
     "name": "stdout",
     "output_type": "stream",
     "text": [
      "Done: Barbell Row (Set 2)\n",
      "End time: 0:01:03.090000\n",
      "Mid time: 0:00:53.090000\n",
      "MoviePy - Building file edited_videos\\Squat With Small Walks (Set 2).gif with imageio.\n"
     ]
    },
    {
     "name": "stderr",
     "output_type": "stream",
     "text": [
      "                                                             \r"
     ]
    },
    {
     "name": "stdout",
     "output_type": "stream",
     "text": [
      "Done: Squat With Small Walks (Set 2)\n",
      "End time: 0:00:40.450000\n",
      "Mid time: 0:00:30.450000\n",
      "MoviePy - Building file edited_videos\\Side Planks (Right - Set 2).gif with imageio.\n"
     ]
    },
    {
     "name": "stderr",
     "output_type": "stream",
     "text": [
      "                                                             \r"
     ]
    },
    {
     "name": "stdout",
     "output_type": "stream",
     "text": [
      "Done: Side Planks (Right - Set 2)\n",
      "End time: 0:01:08.940000\n",
      "Mid time: 0:00:58.940000\n",
      "MoviePy - Building file edited_videos\\Triceps Extension (Set 3).gif with imageio.\n"
     ]
    },
    {
     "name": "stderr",
     "output_type": "stream",
     "text": [
      "                                                             \r"
     ]
    },
    {
     "name": "stdout",
     "output_type": "stream",
     "text": [
      "Done: Triceps Extension (Set 3)\n",
      "End time: 0:01:15.490000\n",
      "Mid time: 0:01:05.490000\n",
      "MoviePy - Building file edited_videos\\Moving Legs Raise (Set 1).gif with imageio.\n"
     ]
    },
    {
     "name": "stderr",
     "output_type": "stream",
     "text": [
      "                                                             \r"
     ]
    },
    {
     "name": "stdout",
     "output_type": "stream",
     "text": [
      "Done: Moving Legs Raise (Set 1)\n",
      "End time: 0:00:23.410000\n",
      "Mid time: 0:00:13.410000\n",
      "MoviePy - Building file edited_videos\\Squat Jump (Set 1).gif with imageio.\n"
     ]
    },
    {
     "name": "stderr",
     "output_type": "stream",
     "text": [
      "                                                             \r"
     ]
    },
    {
     "name": "stdout",
     "output_type": "stream",
     "text": [
      "Done: Squat Jump (Set 1)\n",
      "End time: 0:01:30.980000\n",
      "Mid time: 0:01:20.980000\n",
      "MoviePy - Building file edited_videos\\Declined Dumbell Press (Set 1).gif with imageio.\n"
     ]
    },
    {
     "name": "stderr",
     "output_type": "stream",
     "text": [
      "                                                             \r"
     ]
    },
    {
     "name": "stdout",
     "output_type": "stream",
     "text": [
      "Done: Declined Dumbell Press (Set 1)\n",
      "End time: 0:01:22.480000\n",
      "Mid time: 0:01:12.480000\n",
      "MoviePy - Building file edited_videos\\Lateral Raise (Set 2).gif with imageio.\n"
     ]
    },
    {
     "name": "stderr",
     "output_type": "stream",
     "text": [
      "                                                             \r"
     ]
    },
    {
     "name": "stdout",
     "output_type": "stream",
     "text": [
      "Done: Lateral Raise (Set 2)\n",
      "End time: 0:01:29.980000\n",
      "Mid time: 0:01:19.980000\n",
      "MoviePy - Building file edited_videos\\Inclined Dumbell Row (Set 1).gif with imageio.\n"
     ]
    },
    {
     "name": "stderr",
     "output_type": "stream",
     "text": [
      "                                                             \r"
     ]
    },
    {
     "name": "stdout",
     "output_type": "stream",
     "text": [
      "Done: Inclined Dumbell Row (Set 1)\n",
      "End time: 0:00:48.950000\n",
      "Mid time: 0:00:38.950000\n",
      "MoviePy - Building file edited_videos\\Plank (Set 2).gif with imageio.\n"
     ]
    },
    {
     "name": "stderr",
     "output_type": "stream",
     "text": [
      "                                                             \r"
     ]
    },
    {
     "name": "stdout",
     "output_type": "stream",
     "text": [
      "Done: Plank (Set 2)\n",
      "End time: 0:00:22.920000\n",
      "Mid time: 0:00:12.920000\n",
      "MoviePy - Building file edited_videos\\Squat Jump (Set 2).gif with imageio.\n"
     ]
    },
    {
     "name": "stderr",
     "output_type": "stream",
     "text": [
      "                                                              \r"
     ]
    },
    {
     "name": "stdout",
     "output_type": "stream",
     "text": [
      "Done: Squat Jump (Set 2)\n",
      "End time: 0:01:55.610000\n",
      "Mid time: 0:01:45.610000\n",
      "MoviePy - Building file edited_videos\\Dumbell Calf Curl (Set 1).gif with imageio.\n"
     ]
    },
    {
     "name": "stderr",
     "output_type": "stream",
     "text": [
      "                                                             \r"
     ]
    },
    {
     "name": "stdout",
     "output_type": "stream",
     "text": [
      "Done: Dumbell Calf Curl (Set 1)\n",
      "End time: 0:00:41.940000\n",
      "Mid time: 0:00:31.940000\n",
      "MoviePy - Building file edited_videos\\Side Planks (Left - Set 3).gif with imageio.\n"
     ]
    },
    {
     "name": "stderr",
     "output_type": "stream",
     "text": [
      "                                                             \r"
     ]
    },
    {
     "name": "stdout",
     "output_type": "stream",
     "text": [
      "Done: Side Planks (Left - Set 3)\n",
      "End time: 0:01:49.130000\n",
      "Mid time: 0:01:39.130000\n",
      "MoviePy - Building file edited_videos\\Calf Raise (Set 1).gif with imageio.\n"
     ]
    },
    {
     "name": "stderr",
     "output_type": "stream",
     "text": [
      "                                                             \r"
     ]
    },
    {
     "name": "stdout",
     "output_type": "stream",
     "text": [
      "Done: Calf Raise (Set 1)\n",
      "End time: 0:01:41.590000\n",
      "Mid time: 0:01:31.590000\n",
      "MoviePy - Building file edited_videos\\Crunch (Set 1).gif with imageio.\n"
     ]
    },
    {
     "name": "stderr",
     "output_type": "stream",
     "text": [
      "                                                             \r"
     ]
    },
    {
     "name": "stdout",
     "output_type": "stream",
     "text": [
      "Done: Crunch (Set 1)\n",
      "End time: 0:01:07.150000\n",
      "Mid time: 0:00:57.150000\n",
      "MoviePy - Building file edited_videos\\Triceps Dips (Set 1).gif with imageio.\n"
     ]
    },
    {
     "name": "stderr",
     "output_type": "stream",
     "text": [
      "                                                             \r"
     ]
    },
    {
     "name": "stdout",
     "output_type": "stream",
     "text": [
      "Done: Triceps Dips (Set 1)\n",
      "End time: 0:02:06.870000\n",
      "Mid time: 0:01:56.870000\n",
      "MoviePy - Building file edited_videos\\Dumbell Lunge (Set 2).gif with imageio.\n"
     ]
    },
    {
     "name": "stderr",
     "output_type": "stream",
     "text": [
      "                                                             \r"
     ]
    },
    {
     "name": "stdout",
     "output_type": "stream",
     "text": [
      "Done: Dumbell Lunge (Set 2)\n",
      "End time: 0:01:04.950000\n",
      "Mid time: 0:00:54.950000\n",
      "MoviePy - Building file edited_videos\\Side Left Leg Raise (Set 4).gif with imageio.\n"
     ]
    },
    {
     "name": "stderr",
     "output_type": "stream",
     "text": [
      "                                                             \r"
     ]
    },
    {
     "name": "stdout",
     "output_type": "stream",
     "text": [
      "Done: Side Left Leg Raise (Set 4)\n",
      "End time: 0:01:21.970000\n",
      "Mid time: 0:01:11.970000\n",
      "MoviePy - Building file edited_videos\\Side Right Leg Raise (Set 3).gif with imageio.\n"
     ]
    },
    {
     "name": "stderr",
     "output_type": "stream",
     "text": [
      "                                                             \r"
     ]
    },
    {
     "name": "stdout",
     "output_type": "stream",
     "text": [
      "Done: Side Right Leg Raise (Set 3)\n",
      "End time: 0:01:20.970000\n",
      "Mid time: 0:01:10.970000\n",
      "MoviePy - Building file edited_videos\\Dumbell Reverse Lunge (Set 1).gif with imageio.\n"
     ]
    },
    {
     "name": "stderr",
     "output_type": "stream",
     "text": [
      "                                                             \r"
     ]
    },
    {
     "name": "stdout",
     "output_type": "stream",
     "text": [
      "Done: Dumbell Reverse Lunge (Set 1)\n",
      "End time: 0:01:33.970000\n",
      "Mid time: 0:01:23.970000\n",
      "MoviePy - Building file edited_videos\\Side Right Leg Raise (Set 1).gif with imageio.\n"
     ]
    },
    {
     "name": "stderr",
     "output_type": "stream",
     "text": [
      "                                                             \r"
     ]
    },
    {
     "name": "stdout",
     "output_type": "stream",
     "text": [
      "Done: Side Right Leg Raise (Set 1)\n",
      "End time: 0:01:20.480000\n",
      "Mid time: 0:01:10.480000\n",
      "MoviePy - Building file edited_videos\\Superman Row (Set 2).gif with imageio.\n"
     ]
    },
    {
     "name": "stderr",
     "output_type": "stream",
     "text": [
      "                                                             \r"
     ]
    },
    {
     "name": "stdout",
     "output_type": "stream",
     "text": [
      "Done: Superman Row (Set 2)\n",
      "End time: 0:01:26.980000\n",
      "Mid time: 0:01:16.980000\n",
      "MoviePy - Building file edited_videos\\Lateral Raise (Set 1).gif with imageio.\n"
     ]
    },
    {
     "name": "stderr",
     "output_type": "stream",
     "text": [
      "                                                             \r"
     ]
    },
    {
     "name": "stdout",
     "output_type": "stream",
     "text": [
      "Done: Lateral Raise (Set 1)\n",
      "End time: 0:01:12.980000\n",
      "Mid time: 0:01:02.980000\n",
      "MoviePy - Building file edited_videos\\Inchworm (Set 2).gif with imageio.\n"
     ]
    },
    {
     "name": "stderr",
     "output_type": "stream",
     "text": [
      "                                                             \r"
     ]
    },
    {
     "name": "stdout",
     "output_type": "stream",
     "text": [
      "Done: Inchworm (Set 2)\n",
      "End time: 0:01:00.580000\n",
      "Mid time: 0:00:50.580000\n",
      "MoviePy - Building file edited_videos\\V Abs Holds (Set 1).gif with imageio.\n"
     ]
    },
    {
     "name": "stderr",
     "output_type": "stream",
     "text": [
      "                                                             \r"
     ]
    },
    {
     "name": "stdout",
     "output_type": "stream",
     "text": [
      "Done: V Abs Holds (Set 1)\n",
      "End time: 0:01:03.090000\n",
      "Mid time: 0:00:53.090000\n",
      "MoviePy - Building file edited_videos\\Squat With Small Walks (Set 3).gif with imageio.\n"
     ]
    },
    {
     "name": "stderr",
     "output_type": "stream",
     "text": [
      "                                                             \r"
     ]
    },
    {
     "name": "stdout",
     "output_type": "stream",
     "text": [
      "Done: Squat With Small Walks (Set 3)\n",
      "End time: 0:01:15.980000\n",
      "Mid time: 0:01:05.980000\n",
      "MoviePy - Building file edited_videos\\Inchworm (Set 3).gif with imageio.\n"
     ]
    },
    {
     "name": "stderr",
     "output_type": "stream",
     "text": [
      "                                                             \r"
     ]
    },
    {
     "name": "stdout",
     "output_type": "stream",
     "text": [
      "Done: Inchworm (Set 3)\n",
      "End time: 0:01:08.940000\n",
      "Mid time: 0:00:58.940000\n",
      "MoviePy - Building file edited_videos\\Inclined Dumbell Row (Set 2).gif with imageio.\n"
     ]
    },
    {
     "name": "stderr",
     "output_type": "stream",
     "text": [
      "                                                             \r"
     ]
    },
    {
     "name": "stdout",
     "output_type": "stream",
     "text": [
      "Done: Inclined Dumbell Row (Set 2)\n",
      "End time: 0:00:38.680000\n",
      "Mid time: 0:00:28.680000\n",
      "MoviePy - Building file edited_videos\\High Steps - F (Set 3).gif with imageio.\n"
     ]
    },
    {
     "name": "stderr",
     "output_type": "stream",
     "text": [
      "                                                              \r"
     ]
    },
    {
     "name": "stdout",
     "output_type": "stream",
     "text": [
      "Done: High Steps - F (Set 3)\n",
      "End time: 0:01:11.470000\n",
      "Mid time: 0:01:01.470000\n",
      "MoviePy - Building file edited_videos\\Side Left Leg Raise (Set 2).gif with imageio.\n"
     ]
    },
    {
     "name": "stderr",
     "output_type": "stream",
     "text": [
      "                                                             \r"
     ]
    },
    {
     "name": "stdout",
     "output_type": "stream",
     "text": [
      "Done: Side Left Leg Raise (Set 2)\n",
      "End time: 0:01:39.820000\n",
      "Mid time: 0:01:29.820000\n",
      "MoviePy - Building file edited_videos\\Dumbell Calf Curl (Set 3).gif with imageio.\n"
     ]
    },
    {
     "name": "stderr",
     "output_type": "stream",
     "text": [
      "                                                             \r"
     ]
    },
    {
     "name": "stdout",
     "output_type": "stream",
     "text": [
      "Done: Dumbell Calf Curl (Set 3)\n",
      "End time: 0:00:35.920000\n",
      "Mid time: 0:00:25.920000\n",
      "MoviePy - Building file edited_videos\\Squat Holds (Set 2).gif with imageio.\n"
     ]
    },
    {
     "name": "stderr",
     "output_type": "stream",
     "text": [
      "                                                             \r"
     ]
    },
    {
     "name": "stdout",
     "output_type": "stream",
     "text": [
      "Done: Squat Holds (Set 2)\n",
      "End time: 0:01:35.970000\n",
      "Mid time: 0:01:25.970000\n",
      "MoviePy - Building file edited_videos\\Dumbell Calf Curl (Set 2).gif with imageio.\n"
     ]
    },
    {
     "name": "stderr",
     "output_type": "stream",
     "text": [
      "                                                             \r"
     ]
    },
    {
     "name": "stdout",
     "output_type": "stream",
     "text": [
      "Done: Dumbell Calf Curl (Set 2)\n",
      "End time: 0:01:05.940000\n",
      "Mid time: 0:00:55.940000\n",
      "MoviePy - Building file edited_videos\\High Plank (Set 1).gif with imageio.\n"
     ]
    },
    {
     "name": "stderr",
     "output_type": "stream",
     "text": [
      "                                                             \r"
     ]
    },
    {
     "name": "stdout",
     "output_type": "stream",
     "text": [
      "Done: High Plank (Set 1)\n",
      "End time: 0:01:05.430000\n",
      "Mid time: 0:00:55.430000\n",
      "MoviePy - Building file edited_videos\\Triceps Dips (Set 3).gif with imageio.\n"
     ]
    },
    {
     "name": "stderr",
     "output_type": "stream",
     "text": [
      "                                                              \r"
     ]
    },
    {
     "name": "stdout",
     "output_type": "stream",
     "text": [
      "Done: Triceps Dips (Set 3)\n",
      "End time: 0:01:29.980000\n",
      "Mid time: 0:01:19.980000\n",
      "MoviePy - Building file edited_videos\\Barbell Row (Set 1).gif with imageio.\n"
     ]
    },
    {
     "name": "stderr",
     "output_type": "stream",
     "text": [
      "                                                             \r"
     ]
    },
    {
     "name": "stdout",
     "output_type": "stream",
     "text": [
      "Done: Barbell Row (Set 1)\n",
      "End time: 0:00:48.950000\n",
      "Mid time: 0:00:38.950000\n",
      "MoviePy - Building file edited_videos\\Jumping Jacks - F (Set 1).gif with imageio.\n"
     ]
    },
    {
     "name": "stderr",
     "output_type": "stream",
     "text": [
      "                                                              \r"
     ]
    },
    {
     "name": "stdout",
     "output_type": "stream",
     "text": [
      "Done: Jumping Jacks - F (Set 1)\n",
      "End time: 0:00:38.940000\n",
      "Mid time: 0:00:28.940000\n",
      "MoviePy - Building file edited_videos\\Jumping Jacks (Set 3).gif with imageio.\n"
     ]
    },
    {
     "name": "stderr",
     "output_type": "stream",
     "text": [
      "                                                              \r"
     ]
    },
    {
     "name": "stdout",
     "output_type": "stream",
     "text": [
      "Done: Jumping Jacks (Set 3)\n",
      "End time: 0:01:26.980000\n",
      "Mid time: 0:01:16.980000\n",
      "MoviePy - Building file edited_videos\\Arnold Dumbell Press (Set 1).gif with imageio.\n"
     ]
    },
    {
     "name": "stderr",
     "output_type": "stream",
     "text": [
      "                                                             \r"
     ]
    },
    {
     "name": "stdout",
     "output_type": "stream",
     "text": [
      "Done: Arnold Dumbell Press (Set 1)\n",
      "End time: 0:01:18.480000\n",
      "Mid time: 0:01:08.480000\n",
      "MoviePy - Building file edited_videos\\Crunch (Set 3).gif with imageio.\n"
     ]
    },
    {
     "name": "stderr",
     "output_type": "stream",
     "text": [
      "                                                             \r"
     ]
    },
    {
     "name": "stdout",
     "output_type": "stream",
     "text": [
      "Done: Crunch (Set 3)\n",
      "End time: 0:00:38.680000\n",
      "Mid time: 0:00:28.680000\n",
      "MoviePy - Building file edited_videos\\Barbell Curl (Set 2).gif with imageio.\n"
     ]
    },
    {
     "name": "stderr",
     "output_type": "stream",
     "text": [
      "                                                             \r"
     ]
    },
    {
     "name": "stdout",
     "output_type": "stream",
     "text": [
      "Done: Barbell Curl (Set 2)\n",
      "End time: 0:00:55.010000\n",
      "Mid time: 0:00:45.010000\n",
      "MoviePy - Building file edited_videos\\Burpee - F (Set 1).gif with imageio.\n"
     ]
    },
    {
     "name": "stderr",
     "output_type": "stream",
     "text": [
      "                                                             \r"
     ]
    },
    {
     "name": "stdout",
     "output_type": "stream",
     "text": [
      "Done: Burpee - F (Set 1)\n",
      "End time: 0:01:29.470000\n",
      "Mid time: 0:01:19.470000\n",
      "MoviePy - Building file edited_videos\\Inchworm (Set 1).gif with imageio.\n"
     ]
    },
    {
     "name": "stderr",
     "output_type": "stream",
     "text": [
      "                                                             \r"
     ]
    },
    {
     "name": "stdout",
     "output_type": "stream",
     "text": [
      "Done: Inchworm (Set 1)\n",
      "End time: 0:00:59.580000\n",
      "Mid time: 0:00:49.580000\n",
      "MoviePy - Building file edited_videos\\Dumbell Squat (Set 1).gif with imageio.\n"
     ]
    },
    {
     "name": "stderr",
     "output_type": "stream",
     "text": [
      "                                                             \r"
     ]
    },
    {
     "name": "stdout",
     "output_type": "stream",
     "text": [
      "Done: Dumbell Squat (Set 1)\n",
      "End time: 0:01:04.440000\n",
      "Mid time: 0:00:54.440000\n",
      "MoviePy - Building file edited_videos\\Squat Walks (Set 3).gif with imageio.\n"
     ]
    },
    {
     "name": "stderr",
     "output_type": "stream",
     "text": [
      "                                                             \r"
     ]
    },
    {
     "name": "stdout",
     "output_type": "stream",
     "text": [
      "Done: Squat Walks (Set 3)\n",
      "End time: 0:01:18.510000\n",
      "Mid time: 0:01:08.510000\n",
      "MoviePy - Building file edited_videos\\Dumbell PullOver (Set 3).gif with imageio.\n"
     ]
    },
    {
     "name": "stderr",
     "output_type": "stream",
     "text": [
      "                                                             \r"
     ]
    },
    {
     "name": "stdout",
     "output_type": "stream",
     "text": [
      "Done: Dumbell PullOver (Set 3)\n",
      "End time: 0:01:21.480000\n",
      "Mid time: 0:01:11.480000\n",
      "MoviePy - Building file edited_videos\\Reverse Crunch (Set 1).gif with imageio.\n"
     ]
    },
    {
     "name": "stderr",
     "output_type": "stream",
     "text": [
      "                                                             \r"
     ]
    },
    {
     "name": "stdout",
     "output_type": "stream",
     "text": [
      "Done: Reverse Crunch (Set 1)\n",
      "End time: 0:00:37.940000\n",
      "Mid time: 0:00:27.940000\n",
      "MoviePy - Building file edited_videos\\Plank (Set 1).gif with imageio.\n"
     ]
    },
    {
     "name": "stderr",
     "output_type": "stream",
     "text": [
      "                                                             \r"
     ]
    },
    {
     "name": "stdout",
     "output_type": "stream",
     "text": [
      "Done: Plank (Set 1)\n",
      "End time: 0:00:39.450000\n",
      "Mid time: 0:00:29.450000\n",
      "MoviePy - Building file edited_videos\\Jumping Jacks (Set 2).gif with imageio.\n"
     ]
    },
    {
     "name": "stderr",
     "output_type": "stream",
     "text": [
      "                                                              \r"
     ]
    },
    {
     "name": "stdout",
     "output_type": "stream",
     "text": [
      "Done: Jumping Jacks (Set 2)\n",
      "End time: 0:01:11.980000\n",
      "Mid time: 0:01:01.980000\n",
      "MoviePy - Building file edited_videos\\Forward Lunge (Set 2).gif with imageio.\n"
     ]
    },
    {
     "name": "stderr",
     "output_type": "stream",
     "text": [
      "                                                              \r"
     ]
    },
    {
     "name": "stdout",
     "output_type": "stream",
     "text": [
      "Done: Forward Lunge (Set 2)\n",
      "End time: 0:00:44.440000\n",
      "Mid time: 0:00:34.440000\n",
      "MoviePy - Building file edited_videos\\Dumbell Overhead (Set 2).gif with imageio.\n"
     ]
    },
    {
     "name": "stderr",
     "output_type": "stream",
     "text": [
      "                                                             \r"
     ]
    },
    {
     "name": "stdout",
     "output_type": "stream",
     "text": [
      "Done: Dumbell Overhead (Set 2)\n",
      "End time: 0:00:42.930000\n",
      "Mid time: 0:00:32.930000\n",
      "MoviePy - Building file edited_videos\\Dumbell Overhead (Set 3).gif with imageio.\n"
     ]
    },
    {
     "name": "stderr",
     "output_type": "stream",
     "text": [
      "                                                              \r"
     ]
    },
    {
     "name": "stdout",
     "output_type": "stream",
     "text": [
      "Done: Dumbell Overhead (Set 3)\n",
      "End time: 0:01:20.970000\n",
      "Mid time: 0:01:10.970000\n",
      "MoviePy - Building file edited_videos\\Forward Lunge (Set 3).gif with imageio.\n"
     ]
    },
    {
     "name": "stderr",
     "output_type": "stream",
     "text": [
      "                                                             \r"
     ]
    },
    {
     "name": "stdout",
     "output_type": "stream",
     "text": [
      "Done: Forward Lunge (Set 3)\n",
      "End time: 0:01:14.980000\n",
      "Mid time: 0:01:04.980000\n",
      "MoviePy - Building file edited_videos\\Dumbell Goblet Squat (Set 1).gif with imageio.\n"
     ]
    },
    {
     "name": "stderr",
     "output_type": "stream",
     "text": [
      "                                                             \r"
     ]
    },
    {
     "name": "stdout",
     "output_type": "stream",
     "text": [
      "Done: Dumbell Goblet Squat (Set 1)\n",
      "End time: 0:01:03.440000\n",
      "Mid time: 0:00:53.440000\n",
      "MoviePy - Building file edited_videos\\Inclined Dumbell Row (Set 3).gif with imageio.\n"
     ]
    },
    {
     "name": "stderr",
     "output_type": "stream",
     "text": [
      "                                                             \r"
     ]
    },
    {
     "name": "stdout",
     "output_type": "stream",
     "text": [
      "Done: Inclined Dumbell Row (Set 3)\n",
      "End time: 0:01:13.240000\n",
      "Mid time: 0:01:03.240000\n",
      "MoviePy - Building file edited_videos\\Reverse Crunch (Set 2).gif with imageio.\n"
     ]
    },
    {
     "name": "stderr",
     "output_type": "stream",
     "text": [
      "                                                              \r"
     ]
    },
    {
     "name": "stdout",
     "output_type": "stream",
     "text": [
      "Done: Reverse Crunch (Set 2)\n",
      "End time: 0:01:06.570000\n",
      "Mid time: 0:00:56.570000\n",
      "MoviePy - Building file edited_videos\\Squat With Small Walks (Set 1).gif with imageio.\n"
     ]
    },
    {
     "name": "stderr",
     "output_type": "stream",
     "text": [
      "                                                              \r"
     ]
    },
    {
     "name": "stdout",
     "output_type": "stream",
     "text": [
      "Done: Squat With Small Walks (Set 1)\n",
      "End time: 0:00:35.410000\n",
      "Mid time: 0:00:25.410000\n",
      "MoviePy - Building file edited_videos\\Mountain Climbers (Set 2).gif with imageio.\n"
     ]
    },
    {
     "name": "stderr",
     "output_type": "stream",
     "text": [
      "                                                             \r"
     ]
    },
    {
     "name": "stdout",
     "output_type": "stream",
     "text": [
      "Done: Mountain Climbers (Set 2)\n",
      "End time: 0:01:03.140000\n",
      "Mid time: 0:00:53.140000\n",
      "MoviePy - Building file edited_videos\\Reverse Crunch (Set 3).gif with imageio.\n"
     ]
    },
    {
     "name": "stderr",
     "output_type": "stream",
     "text": [
      "                                                             \r"
     ]
    },
    {
     "name": "stdout",
     "output_type": "stream",
     "text": [
      "Done: Reverse Crunch (Set 3)\n",
      "End time: 0:01:27.010000\n",
      "Mid time: 0:01:17.010000\n",
      "MoviePy - Building file edited_videos\\Dumbell PullOver (Set 2).gif with imageio.\n"
     ]
    },
    {
     "name": "stderr",
     "output_type": "stream",
     "text": [
      "                                                             \r"
     ]
    },
    {
     "name": "stdout",
     "output_type": "stream",
     "text": [
      "Done: Dumbell PullOver (Set 2)\n",
      "End time: 0:00:36.920000\n",
      "Mid time: 0:00:26.920000\n",
      "MoviePy - Building file edited_videos\\Jumping Jacks (Set 1).gif with imageio.\n"
     ]
    },
    {
     "name": "stderr",
     "output_type": "stream",
     "text": [
      "                                                             \r"
     ]
    },
    {
     "name": "stdout",
     "output_type": "stream",
     "text": [
      "Done: Jumping Jacks (Set 1)\n",
      "End time: 0:00:43.540000\n",
      "Mid time: 0:00:33.540000\n",
      "MoviePy - Building file edited_videos\\High Steps - F (Set 2).gif with imageio.\n"
     ]
    },
    {
     "name": "stderr",
     "output_type": "stream",
     "text": [
      "                                                             \r"
     ]
    },
    {
     "name": "stdout",
     "output_type": "stream",
     "text": [
      "Done: High Steps - F (Set 2)\n",
      "End time: 0:01:27.170000\n",
      "Mid time: 0:01:17.170000\n",
      "MoviePy - Building file edited_videos\\Dumbell Romanian Deadlift - F (Set 3).gif with imageio.\n"
     ]
    },
    {
     "name": "stderr",
     "output_type": "stream",
     "text": [
      "                                                             \r"
     ]
    },
    {
     "name": "stdout",
     "output_type": "stream",
     "text": [
      "Done: Dumbell Romanian Deadlift - F (Set 3)\n",
      "End time: 0:01:06.940000\n",
      "Mid time: 0:00:56.940000\n",
      "MoviePy - Building file edited_videos\\Flat Dumbell Press (Set 2).gif with imageio.\n"
     ]
    },
    {
     "name": "stderr",
     "output_type": "stream",
     "text": [
      "                                                             \r"
     ]
    },
    {
     "name": "stdout",
     "output_type": "stream",
     "text": [
      "Done: Flat Dumbell Press (Set 2)\n",
      "End time: 0:01:15.490000\n",
      "Mid time: 0:01:05.490000\n",
      "MoviePy - Building file edited_videos\\Moving Legs Raise (Set 2).gif with imageio.\n"
     ]
    },
    {
     "name": "stderr",
     "output_type": "stream",
     "text": [
      "                                                             \r"
     ]
    },
    {
     "name": "stdout",
     "output_type": "stream",
     "text": [
      "Done: Moving Legs Raise (Set 2)\n",
      "End time: 0:01:06.460000\n",
      "Mid time: 0:00:56.460000\n",
      "MoviePy - Building file edited_videos\\Squat Walks (Set 1).gif with imageio.\n"
     ]
    },
    {
     "name": "stderr",
     "output_type": "stream",
     "text": [
      "                                                             \r"
     ]
    },
    {
     "name": "stdout",
     "output_type": "stream",
     "text": [
      "Done: Squat Walks (Set 1)\n",
      "End time: 0:01:16.510000\n",
      "Mid time: 0:01:06.510000\n",
      "MoviePy - Building file edited_videos\\Triceps Extension (Set 2).gif with imageio.\n"
     ]
    },
    {
     "name": "stderr",
     "output_type": "stream",
     "text": [
      "                                                             \r"
     ]
    },
    {
     "name": "stdout",
     "output_type": "stream",
     "text": [
      "Done: Triceps Extension (Set 2)\n",
      "End time: 0:01:03.440000\n",
      "Mid time: 0:00:53.440000\n",
      "MoviePy - Building file edited_videos\\Barbell Row (Set 3).gif with imageio.\n"
     ]
    },
    {
     "name": "stderr",
     "output_type": "stream",
     "text": [
      "                                                             \r"
     ]
    },
    {
     "name": "stdout",
     "output_type": "stream",
     "text": [
      "Done: Barbell Row (Set 3)\n",
      "End time: 0:01:29.230000\n",
      "Mid time: 0:01:19.230000\n",
      "MoviePy - Building file edited_videos\\Dumbell Romanian Deadlift - F (Set 2).gif with imageio.\n"
     ]
    },
    {
     "name": "stderr",
     "output_type": "stream",
     "text": [
      "                                                             \r"
     ]
    },
    {
     "name": "stdout",
     "output_type": "stream",
     "text": [
      "Done: Dumbell Romanian Deadlift - F (Set 2)\n",
      "End time: 0:00:41.450000\n",
      "Mid time: 0:00:31.450000\n",
      "MoviePy - Building file edited_videos\\Weighted Russian Twist (Set 1).gif with imageio.\n"
     ]
    },
    {
     "name": "stderr",
     "output_type": "stream",
     "text": [
      "                                                             \r"
     ]
    },
    {
     "name": "stdout",
     "output_type": "stream",
     "text": [
      "Done: Weighted Russian Twist (Set 1)\n",
      "End time: 0:00:48.040000\n",
      "Mid time: 0:00:38.040000\n",
      "MoviePy - Building file edited_videos\\Burpee - F (Set 3).gif with imageio.\n"
     ]
    },
    {
     "name": "stderr",
     "output_type": "stream",
     "text": [
      "                                                              \r"
     ]
    },
    {
     "name": "stdout",
     "output_type": "stream",
     "text": [
      "Done: Burpee - F (Set 3)\n",
      "End time: 0:00:55.940000\n",
      "Mid time: 0:00:45.940000\n",
      "MoviePy - Building file edited_videos\\Halfway Squat (Set 1).gif with imageio.\n"
     ]
    },
    {
     "name": "stderr",
     "output_type": "stream",
     "text": [
      "                                                             \r"
     ]
    },
    {
     "name": "stdout",
     "output_type": "stream",
     "text": [
      "Done: Halfway Squat (Set 1)\n",
      "End time: 0:00:40.450000\n",
      "Mid time: 0:00:30.450000\n",
      "MoviePy - Building file edited_videos\\Side Planks (Left - Set 1).gif with imageio.\n"
     ]
    },
    {
     "name": "stderr",
     "output_type": "stream",
     "text": [
      "                                                             \r"
     ]
    },
    {
     "name": "stdout",
     "output_type": "stream",
     "text": [
      "Done: Side Planks (Left - Set 1)\n",
      "End time: 0:01:04.440000\n",
      "Mid time: 0:00:54.440000\n",
      "MoviePy - Building file edited_videos\\Weighted Russian Twist (Set 3).gif with imageio.\n"
     ]
    },
    {
     "name": "stderr",
     "output_type": "stream",
     "text": [
      "                                                             \r"
     ]
    },
    {
     "name": "stdout",
     "output_type": "stream",
     "text": [
      "Done: Weighted Russian Twist (Set 3)\n",
      "End time: 0:00:24.400000\n",
      "Mid time: 0:00:14.400000\n",
      "MoviePy - Building file edited_videos\\Squat Jump (Set 3).gif with imageio.\n"
     ]
    },
    {
     "name": "stderr",
     "output_type": "stream",
     "text": [
      "                                                             \r"
     ]
    },
    {
     "name": "stdout",
     "output_type": "stream",
     "text": [
      "Done: Squat Jump (Set 3)\n",
      "End time: 0:01:09.450000\n",
      "Mid time: 0:00:59.450000\n",
      "MoviePy - Building file edited_videos\\Seated Dumbell Raise (Set 2).gif with imageio.\n"
     ]
    },
    {
     "name": "stderr",
     "output_type": "stream",
     "text": [
      "                                                             \r"
     ]
    },
    {
     "name": "stdout",
     "output_type": "stream",
     "text": [
      "Done: Seated Dumbell Raise (Set 2)\n",
      "End time: 0:01:07.450000\n",
      "Mid time: 0:00:57.450000\n",
      "MoviePy - Building file edited_videos\\Seated Dumbell Raise (Set 3).gif with imageio.\n"
     ]
    },
    {
     "name": "stderr",
     "output_type": "stream",
     "text": [
      "                                                             \r"
     ]
    },
    {
     "name": "stdout",
     "output_type": "stream",
     "text": [
      "Done: Seated Dumbell Raise (Set 3)\n",
      "End time: 0:00:51.940000\n",
      "Mid time: 0:00:41.940000\n",
      "MoviePy - Building file edited_videos\\Declined Push Up (Set 3).gif with imageio.\n"
     ]
    },
    {
     "name": "stderr",
     "output_type": "stream",
     "text": [
      "                                                             \r"
     ]
    },
    {
     "name": "stdout",
     "output_type": "stream",
     "text": [
      "Done: Declined Push Up (Set 3)\n",
      "End time: 0:01:27.520000\n",
      "Mid time: 0:01:17.520000\n",
      "MoviePy - Building file edited_videos\\Seated Dumbell Raise (Set 1).gif with imageio.\n"
     ]
    },
    {
     "name": "stderr",
     "output_type": "stream",
     "text": [
      "                                                              \r"
     ]
    },
    {
     "name": "stdout",
     "output_type": "stream",
     "text": [
      "Done: Seated Dumbell Raise (Set 1)\n",
      "End time: 0:00:42.450000\n",
      "Mid time: 0:00:32.450000\n",
      "MoviePy - Building file edited_videos\\Dumbell Overhead (Set 1).gif with imageio.\n"
     ]
    },
    {
     "name": "stderr",
     "output_type": "stream",
     "text": [
      "                                                             \r"
     ]
    },
    {
     "name": "stdout",
     "output_type": "stream",
     "text": [
      "Done: Dumbell Overhead (Set 1)\n",
      "End time: 0:01:02.950000\n",
      "Mid time: 0:00:52.950000\n",
      "MoviePy - Building file edited_videos\\Plank Twists (Set 2).gif with imageio.\n"
     ]
    },
    {
     "name": "stderr",
     "output_type": "stream",
     "text": [
      "                                                              \r"
     ]
    },
    {
     "name": "stdout",
     "output_type": "stream",
     "text": [
      "Done: Plank Twists (Set 2)\n",
      "End time: 0:01:12.280000\n",
      "Mid time: 0:01:02.280000\n",
      "MoviePy - Building file edited_videos\\Burpee (Set 1).gif with imageio.\n"
     ]
    },
    {
     "name": "stderr",
     "output_type": "stream",
     "text": [
      "                                                             \r"
     ]
    },
    {
     "name": "stdout",
     "output_type": "stream",
     "text": [
      "Done: Burpee (Set 1)\n",
      "End time: 0:01:22.870000\n",
      "Mid time: 0:01:12.870000\n",
      "MoviePy - Building file edited_videos\\Romanian Deadlift (Set 2).gif with imageio.\n"
     ]
    },
    {
     "name": "stderr",
     "output_type": "stream",
     "text": [
      "                                                             \r"
     ]
    },
    {
     "name": "stdout",
     "output_type": "stream",
     "text": [
      "Done: Romanian Deadlift (Set 2)\n",
      "End time: 0:00:35.410000\n",
      "Mid time: 0:00:25.410000\n",
      "MoviePy - Building file edited_videos\\Mountain Climbers (Set 1).gif with imageio.\n"
     ]
    },
    {
     "name": "stderr",
     "output_type": "stream",
     "text": [
      "                                                             \r"
     ]
    },
    {
     "name": "stdout",
     "output_type": "stream",
     "text": [
      "Done: Mountain Climbers (Set 1)\n",
      "End time: 0:01:20.480000\n",
      "Mid time: 0:01:10.480000\n",
      "MoviePy - Building file edited_videos\\Superman Row (Set 3).gif with imageio.\n"
     ]
    },
    {
     "name": "stderr",
     "output_type": "stream",
     "text": [
      "                                                             \r"
     ]
    },
    {
     "name": "stdout",
     "output_type": "stream",
     "text": [
      "Done: Superman Row (Set 3)\n",
      "End time: 0:00:44.950000\n",
      "Mid time: 0:00:34.950000\n",
      "MoviePy - Building file edited_videos\\Laying Legs Raise (Set 2).gif with imageio.\n"
     ]
    },
    {
     "name": "stderr",
     "output_type": "stream",
     "text": [
      "                                                             \r"
     ]
    },
    {
     "name": "stdout",
     "output_type": "stream",
     "text": [
      "Done: Laying Legs Raise (Set 2)\n",
      "End time: 0:01:28.980000\n",
      "Mid time: 0:01:18.980000\n",
      "MoviePy - Building file edited_videos\\Biceps Curl (Set 1).gif with imageio.\n"
     ]
    },
    {
     "name": "stderr",
     "output_type": "stream",
     "text": [
      "                                                             \r"
     ]
    },
    {
     "name": "stdout",
     "output_type": "stream",
     "text": [
      "Done: Biceps Curl (Set 1)\n",
      "End time: 0:01:22.550000\n",
      "Mid time: 0:01:12.550000\n",
      "MoviePy - Building file edited_videos\\Triceps Dips (Set 2).gif with imageio.\n"
     ]
    },
    {
     "name": "stderr",
     "output_type": "stream",
     "text": [
      "                                                              \r"
     ]
    },
    {
     "name": "stdout",
     "output_type": "stream",
     "text": [
      "Done: Triceps Dips (Set 2)\n",
      "End time: 0:00:41.450000\n",
      "Mid time: 0:00:31.450000\n",
      "MoviePy - Building file edited_videos\\Side Planks (Right - Set 4).gif with imageio.\n"
     ]
    },
    {
     "name": "stderr",
     "output_type": "stream",
     "text": [
      "                                                             \r"
     ]
    },
    {
     "name": "stdout",
     "output_type": "stream",
     "text": [
      "Done: Side Planks (Right - Set 4)\n",
      "End time: 0:00:56.940000\n",
      "Mid time: 0:00:46.940000\n",
      "MoviePy - Building file edited_videos\\Squat Walks (Set 2).gif with imageio.\n"
     ]
    },
    {
     "name": "stderr",
     "output_type": "stream",
     "text": [
      "                                                             \r"
     ]
    },
    {
     "name": "stdout",
     "output_type": "stream",
     "text": [
      "Done: Squat Walks (Set 2)\n",
      "End time: 0:00:58.440000\n",
      "Mid time: 0:00:48.440000\n",
      "MoviePy - Building file edited_videos\\Burpee (Set 2).gif with imageio.\n"
     ]
    },
    {
     "name": "stderr",
     "output_type": "stream",
     "text": [
      "                                                             \r"
     ]
    },
    {
     "name": "stdout",
     "output_type": "stream",
     "text": [
      "Done: Burpee (Set 2)\n",
      "End time: 0:01:07.450000\n",
      "Mid time: 0:00:57.450000\n",
      "MoviePy - Building file edited_videos\\Declined Dumbell Press (Set 2).gif with imageio.\n"
     ]
    },
    {
     "name": "stderr",
     "output_type": "stream",
     "text": [
      "                                                             \r"
     ]
    },
    {
     "name": "stdout",
     "output_type": "stream",
     "text": [
      "Done: Declined Dumbell Press (Set 2)\n",
      "End time: 0:01:24.470000\n",
      "Mid time: 0:01:14.470000\n",
      "MoviePy - Building file edited_videos\\Flat Dumbell Press (Set 1).gif with imageio.\n"
     ]
    },
    {
     "name": "stderr",
     "output_type": "stream",
     "text": [
      "                                                             \r"
     ]
    },
    {
     "name": "stdout",
     "output_type": "stream",
     "text": [
      "Done: Flat Dumbell Press (Set 1)\n",
      "End time: 0:00:54.450000\n",
      "Mid time: 0:00:44.450000\n",
      "MoviePy - Building file edited_videos\\Plank Twists (Set 3).gif with imageio.\n"
     ]
    },
    {
     "name": "stderr",
     "output_type": "stream",
     "text": [
      "                                                             \r"
     ]
    },
    {
     "name": "stdout",
     "output_type": "stream",
     "text": [
      "Done: Plank Twists (Set 3)\n",
      "End time: 0:00:58.440000\n",
      "Mid time: 0:00:48.440000\n",
      "MoviePy - Building file edited_videos\\High Step (Set 3).gif with imageio.\n"
     ]
    },
    {
     "name": "stderr",
     "output_type": "stream",
     "text": [
      "                                                             \r"
     ]
    },
    {
     "name": "stdout",
     "output_type": "stream",
     "text": [
      "Done: High Step (Set 3)\n",
      "End time: 0:01:28.980000\n",
      "Mid time: 0:01:18.980000\n",
      "MoviePy - Building file edited_videos\\Glute Bridge (Set 2).gif with imageio.\n"
     ]
    },
    {
     "name": "stderr",
     "output_type": "stream",
     "text": [
      "                                                              \r"
     ]
    },
    {
     "name": "stdout",
     "output_type": "stream",
     "text": [
      "Done: Glute Bridge (Set 2)\n",
      "End time: 0:01:35.970000\n",
      "Mid time: 0:01:25.970000\n",
      "MoviePy - Building file edited_videos\\Glute Kick Back (Left - Set 3).gif with imageio.\n"
     ]
    },
    {
     "name": "stderr",
     "output_type": "stream",
     "text": [
      "                                                              \r"
     ]
    },
    {
     "name": "stdout",
     "output_type": "stream",
     "text": [
      "Done: Glute Kick Back (Left - Set 3)\n",
      "End time: 0:01:16.490000\n",
      "Mid time: 0:01:06.490000\n",
      "MoviePy - Building file edited_videos\\Glute Kick Back (Right - Set 2).gif with imageio.\n"
     ]
    },
    {
     "name": "stderr",
     "output_type": "stream",
     "text": [
      "                                                             \r"
     ]
    },
    {
     "name": "stdout",
     "output_type": "stream",
     "text": [
      "Done: Glute Kick Back (Right - Set 2)\n",
      "End time: 0:01:10.450000\n",
      "Mid time: 0:01:00.450000\n",
      "MoviePy - Building file edited_videos\\Sumo Squat (Set 3).gif with imageio.\n"
     ]
    },
    {
     "name": "stderr",
     "output_type": "stream",
     "text": [
      "                                                             \r"
     ]
    },
    {
     "name": "stdout",
     "output_type": "stream",
     "text": [
      "Done: Sumo Squat (Set 3)\n",
      "End time: 0:01:36.970000\n",
      "Mid time: 0:01:26.970000\n",
      "MoviePy - Building file edited_videos\\Calf Raise (Set 2).gif with imageio.\n"
     ]
    },
    {
     "name": "stderr",
     "output_type": "stream",
     "text": [
      "                                                             \r"
     ]
    },
    {
     "name": "stdout",
     "output_type": "stream",
     "text": [
      "Done: Calf Raise (Set 2)\n",
      "End time: 0:01:00.950000\n",
      "Mid time: 0:00:50.950000\n",
      "MoviePy - Building file edited_videos\\Flat Dumbell Press (Set 3).gif with imageio.\n"
     ]
    },
    {
     "name": "stderr",
     "output_type": "stream",
     "text": [
      "                                                             \r"
     ]
    },
    {
     "name": "stdout",
     "output_type": "stream",
     "text": [
      "Done: Flat Dumbell Press (Set 3)\n",
      "End time: 0:00:55.450000\n",
      "Mid time: 0:00:45.450000\n",
      "MoviePy - Building file edited_videos\\High Step (Set 2).gif with imageio.\n"
     ]
    },
    {
     "name": "stderr",
     "output_type": "stream",
     "text": [
      "                                                             \r"
     ]
    },
    {
     "name": "stdout",
     "output_type": "stream",
     "text": [
      "Done: High Step (Set 2)\n",
      "End time: 0:01:34.480000\n",
      "Mid time: 0:01:24.480000\n",
      "MoviePy - Building file edited_videos\\Glute Kick Back (Left - Set 1).gif with imageio.\n"
     ]
    },
    {
     "name": "stderr",
     "output_type": "stream",
     "text": [
      "                                                             \r"
     ]
    },
    {
     "name": "stdout",
     "output_type": "stream",
     "text": [
      "Done: Glute Kick Back (Left - Set 1)\n",
      "End time: 0:01:05.430000\n",
      "Mid time: 0:00:55.430000\n",
      "MoviePy - Building file edited_videos\\Bulgarian Split Squat (Set 3).gif with imageio.\n"
     ]
    },
    {
     "name": "stderr",
     "output_type": "stream",
     "text": [
      "                                                             \r"
     ]
    },
    {
     "name": "stdout",
     "output_type": "stream",
     "text": [
      "Done: Bulgarian Split Squat (Set 3)\n",
      "End time: 0:01:08.450000\n",
      "Mid time: 0:00:58.450000\n",
      "MoviePy - Building file edited_videos\\Bulgarian Split Squat (Set 2).gif with imageio.\n"
     ]
    },
    {
     "name": "stderr",
     "output_type": "stream",
     "text": [
      "                                                             \r"
     ]
    },
    {
     "name": "stdout",
     "output_type": "stream",
     "text": [
      "Done: Bulgarian Split Squat (Set 2)\n",
      "End time: 0:01:12.980000\n",
      "Mid time: 0:01:02.980000\n",
      "MoviePy - Building file edited_videos\\Bulgarian Split Squat (Set 4).gif with imageio.\n"
     ]
    },
    {
     "name": "stderr",
     "output_type": "stream",
     "text": [
      "                                                              \r"
     ]
    },
    {
     "name": "stdout",
     "output_type": "stream",
     "text": [
      "Done: Bulgarian Split Squat (Set 4)\n",
      "End time: 0:01:01.600000\n",
      "Mid time: 0:00:51.600000\n",
      "MoviePy - Building file edited_videos\\Jumping Jacks - WU (Set 2).gif with imageio.\n"
     ]
    },
    {
     "name": "stderr",
     "output_type": "stream",
     "text": [
      "                                                             \r"
     ]
    },
    {
     "name": "stdout",
     "output_type": "stream",
     "text": [
      "Done: Jumping Jacks - WU (Set 2)\n",
      "End time: 0:01:01.600000\n",
      "Mid time: 0:00:51.600000\n",
      "MoviePy - Building file edited_videos\\Jumping Jacks - WU (Set 3).gif with imageio.\n"
     ]
    },
    {
     "name": "stderr",
     "output_type": "stream",
     "text": [
      "                                                              \r"
     ]
    },
    {
     "name": "stdout",
     "output_type": "stream",
     "text": [
      "Done: Jumping Jacks - WU (Set 3)\n",
      "End time: 0:01:25.980000\n",
      "Mid time: 0:01:15.980000\n",
      "MoviePy - Building file edited_videos\\Crunch (Set 2).gif with imageio.\n"
     ]
    },
    {
     "name": "stderr",
     "output_type": "stream",
     "text": [
      "                                                             \r"
     ]
    },
    {
     "name": "stdout",
     "output_type": "stream",
     "text": [
      "Done: Crunch (Set 2)\n",
      "End time: 0:00:40.450000\n",
      "Mid time: 0:00:30.450000\n",
      "MoviePy - Building file edited_videos\\Side Planks (Right - Set 6).gif with imageio.\n"
     ]
    },
    {
     "name": "stderr",
     "output_type": "stream",
     "text": [
      "                                                              \r"
     ]
    },
    {
     "name": "stdout",
     "output_type": "stream",
     "text": [
      "Done: Side Planks (Right - Set 6)\n",
      "End time: 0:00:41.940000\n",
      "Mid time: 0:00:31.940000\n",
      "MoviePy - Building file edited_videos\\Halfway Squat (Set 3).gif with imageio.\n"
     ]
    },
    {
     "name": "stderr",
     "output_type": "stream",
     "text": [
      "                                                             \r"
     ]
    },
    {
     "name": "stdout",
     "output_type": "stream",
     "text": [
      "Done: Halfway Squat (Set 3)\n",
      "End time: 0:01:17.970000\n",
      "Mid time: 0:01:07.970000\n",
      "MoviePy - Building file edited_videos\\Superman.gif with imageio.\n"
     ]
    },
    {
     "name": "stderr",
     "output_type": "stream",
     "text": [
      "                                                             \r"
     ]
    },
    {
     "name": "stdout",
     "output_type": "stream",
     "text": [
      "Done: Superman\n",
      "End time: 0:01:19.480000\n",
      "Mid time: 0:01:09.480000\n",
      "MoviePy - Building file edited_videos\\Shoulder Press.gif with imageio.\n"
     ]
    },
    {
     "name": "stderr",
     "output_type": "stream",
     "text": [
      "                                                             \r"
     ]
    },
    {
     "name": "stdout",
     "output_type": "stream",
     "text": [
      "Done: Shoulder Press\n",
      "End time: 0:01:14.470000\n",
      "Mid time: 0:01:04.470000\n",
      "MoviePy - Building file edited_videos\\Crunch F.gif with imageio.\n"
     ]
    },
    {
     "name": "stderr",
     "output_type": "stream",
     "text": [
      "                                                             \r"
     ]
    },
    {
     "name": "stdout",
     "output_type": "stream",
     "text": [
      "Done: Crunch F\n",
      "End time: 0:01:02.440000\n",
      "Mid time: 0:00:52.440000\n",
      "MoviePy - Building file edited_videos\\Declined Push Up.gif with imageio.\n"
     ]
    },
    {
     "name": "stderr",
     "output_type": "stream",
     "text": [
      "                                                             \r"
     ]
    },
    {
     "name": "stdout",
     "output_type": "stream",
     "text": [
      "Done: Declined Push Up\n",
      "End time: 0:01:55.520000\n",
      "Mid time: 0:01:45.520000\n",
      "MoviePy - Building file edited_videos\\Flat Barbell Bench Press.gif with imageio.\n"
     ]
    },
    {
     "name": "stderr",
     "output_type": "stream",
     "text": [
      "                                                              \r"
     ]
    },
    {
     "name": "stdout",
     "output_type": "stream",
     "text": [
      "Done: Flat Barbell Bench Press\n",
      "End time: 0:01:09.940000\n",
      "Mid time: 0:00:59.940000\n",
      "MoviePy - Building file edited_videos\\Flutter Kick.gif with imageio.\n"
     ]
    },
    {
     "name": "stderr",
     "output_type": "stream",
     "text": [
      "                                                             \r"
     ]
    },
    {
     "name": "stdout",
     "output_type": "stream",
     "text": [
      "Done: Flutter Kick\n",
      "End time: 0:01:13.980000\n",
      "Mid time: 0:01:03.980000\n",
      "MoviePy - Building file edited_videos\\Overhead Triceps Extension F.gif with imageio.\n"
     ]
    },
    {
     "name": "stderr",
     "output_type": "stream",
     "text": [
      "                                                             \r"
     ]
    },
    {
     "name": "stdout",
     "output_type": "stream",
     "text": [
      "Done: Overhead Triceps Extension F\n",
      "End time: 0:01:20.970000\n",
      "Mid time: 0:01:10.970000\n",
      "MoviePy - Building file edited_videos\\Glute Kick Back (Right - Set 4).gif with imageio.\n"
     ]
    },
    {
     "name": "stderr",
     "output_type": "stream",
     "text": [
      "                                                             \r"
     ]
    },
    {
     "name": "stdout",
     "output_type": "stream",
     "text": [
      "Done: Glute Kick Back (Right - Set 4)\n",
      "End time: 0:01:08.940000\n",
      "Mid time: 0:00:58.940000\n",
      "MoviePy - Building file edited_videos\\Arnold Dumbell Press (Set 2).gif with imageio.\n"
     ]
    },
    {
     "name": "stderr",
     "output_type": "stream",
     "text": [
      "                                                             \r"
     ]
    },
    {
     "name": "stdout",
     "output_type": "stream",
     "text": [
      "Done: Arnold Dumbell Press (Set 2)\n",
      "End time: 0:01:06.460000\n",
      "Mid time: 0:00:56.460000\n",
      "MoviePy - Building file edited_videos\\Arnold Dumbell Press (Set 3).gif with imageio.\n"
     ]
    },
    {
     "name": "stderr",
     "output_type": "stream",
     "text": [
      "                                                             \r"
     ]
    },
    {
     "name": "stdout",
     "output_type": "stream",
     "text": [
      "Done: Arnold Dumbell Press (Set 3)\n",
      "End time: 0:01:42.980000\n",
      "Mid time: 0:01:32.980000\n",
      "MoviePy - Building file edited_videos\\Glute Bridge (Set 1).gif with imageio.\n"
     ]
    },
    {
     "name": "stderr",
     "output_type": "stream",
     "text": [
      "                                                              \r"
     ]
    },
    {
     "name": "stdout",
     "output_type": "stream",
     "text": [
      "Done: Glute Bridge (Set 1)\n",
      "End time: 0:01:45.510000\n",
      "Mid time: 0:01:35.510000\n",
      "MoviePy - Building file edited_videos\\Dumbell PullOver (Set 1).gif with imageio.\n"
     ]
    },
    {
     "name": "stderr",
     "output_type": "stream",
     "text": [
      "                                                             \r"
     ]
    },
    {
     "name": "stdout",
     "output_type": "stream",
     "text": [
      "Done: Dumbell PullOver (Set 1)\n",
      "End time: 0:00:59.440000\n",
      "Mid time: 0:00:49.440000\n",
      "MoviePy - Building file edited_videos\\High Step (Set 1).gif with imageio.\n"
     ]
    },
    {
     "name": "stderr",
     "output_type": "stream",
     "text": [
      "                                                             \r"
     ]
    },
    {
     "name": "stdout",
     "output_type": "stream",
     "text": [
      "Done: High Step (Set 1)\n",
      "End time: 0:01:32.490000\n",
      "Mid time: 0:01:22.490000\n",
      "MoviePy - Building file edited_videos\\Bulgarian Split Squat (Set 1).gif with imageio.\n"
     ]
    },
    {
     "name": "stderr",
     "output_type": "stream",
     "text": [
      "                                                             \r"
     ]
    },
    {
     "name": "stdout",
     "output_type": "stream",
     "text": [
      "Done: Bulgarian Split Squat (Set 1)\n",
      "End time: 0:00:57.610000\n",
      "Mid time: 0:00:47.610000\n",
      "MoviePy - Building file edited_videos\\Plank F.gif with imageio.\n"
     ]
    },
    {
     "name": "stderr",
     "output_type": "stream",
     "text": [
      "                                                             \r"
     ]
    },
    {
     "name": "stdout",
     "output_type": "stream",
     "text": [
      "Done: Plank F\n",
      "End time: 0:01:18.480000\n",
      "Mid time: 0:01:08.480000\n",
      "MoviePy - Building file edited_videos\\Chest Fly - F (Set 2).gif with imageio.\n"
     ]
    },
    {
     "name": "stderr",
     "output_type": "stream",
     "text": [
      "                                                             \r"
     ]
    },
    {
     "name": "stdout",
     "output_type": "stream",
     "text": [
      "Done: Chest Fly - F (Set 2)\n",
      "End time: 0:01:06.940000\n",
      "Mid time: 0:00:56.940000\n",
      "MoviePy - Building file edited_videos\\Dumbell Reverse Lunge (Set 2).gif with imageio.\n"
     ]
    },
    {
     "name": "stderr",
     "output_type": "stream",
     "text": [
      "                                                             \r"
     ]
    },
    {
     "name": "stdout",
     "output_type": "stream",
     "text": [
      "Done: Dumbell Reverse Lunge (Set 2)\n",
      "End time: 0:01:06.940000\n",
      "Mid time: 0:00:56.940000\n",
      "MoviePy - Building file edited_videos\\Triceps Dips F.gif with imageio.\n"
     ]
    },
    {
     "name": "stderr",
     "output_type": "stream",
     "text": [
      "                                                             \r"
     ]
    },
    {
     "name": "stdout",
     "output_type": "stream",
     "text": [
      "Done: Triceps Dips F\n",
      "End time: 0:01:35.970000\n",
      "Mid time: 0:01:25.970000\n",
      "MoviePy - Building file edited_videos\\Barbell Curl.gif with imageio.\n"
     ]
    },
    {
     "name": "stderr",
     "output_type": "stream",
     "text": [
      "                                                             \r"
     ]
    },
    {
     "name": "stdout",
     "output_type": "stream",
     "text": [
      "Done: Barbell Curl\n",
      "End time: 0:01:51.500000\n",
      "Mid time: 0:01:41.500000\n",
      "MoviePy - Building file edited_videos\\Barbell Romanian Deadlift.gif with imageio.\n"
     ]
    },
    {
     "name": "stderr",
     "output_type": "stream",
     "text": [
      "                                                              \r"
     ]
    },
    {
     "name": "stdout",
     "output_type": "stream",
     "text": [
      "Done: Barbell Romanian Deadlift\n"
     ]
    }
   ],
   "source": [
    "import pytube, os\n",
    "import datetime\n",
    "from moviepy.editor import VideoFileClip\n",
    "\n",
    "for row in rows[48:]:\n",
    "    link = row[0]\n",
    "    yt = pytube.YouTube(link)\n",
    "    stream = yt.streams.get_highest_resolution()\n",
    "    while True:\n",
    "        try:\n",
    "            video_path = stream.download()\n",
    "            break\n",
    "        except:\n",
    "            continue\n",
    "    original_clip = VideoFileClip(video_path)\n",
    "    \n",
    "    end_time = original_clip.duration\n",
    "\n",
    "    # Calculate the mid time\n",
    "    start_time = end_time - 10\n",
    "\n",
    "    # Convert the times to the format 'hh:mm:ss.ms'\n",
    "    end_time_str = str(datetime.timedelta(seconds=end_time))\n",
    "    start_time = str(datetime.timedelta(seconds=start_time))\n",
    "\n",
    "    print('End time:', end_time_str)\n",
    "    print('Mid time:', start_time)\n",
    "    \n",
    "    # start_time, end_time = ('00:00:06.270', '00:00:16.200')\n",
    "    subclip = original_clip.subclip(start_time, end_time)\n",
    "    subclip = subclip.fadein(duration=2).fadeout(duration=2)  # Add fadeout effect\n",
    "    gif_filename = os.path.join('edited_videos', row[1] + '.gif')\n",
    "    subclip.write_gif(gif_filename, fps=10)\n",
    "    original_clip.close()\n",
    "    os.remove(video_path)\n",
    "    # cur.execute(\"UPDATE health_video SET preview_link = %s WHERE title = %s\", (encode(row[1]), row[1]))\n",
    "    # conn.commit()\n",
    "    print(\"Done:\", row[1])"
   ]
  }
 ],
 "metadata": {
  "kernelspec": {
   "display_name": ".venv",
   "language": "python",
   "name": "python3"
  },
  "language_info": {
   "codemirror_mode": {
    "name": "ipython",
    "version": 3
   },
   "file_extension": ".py",
   "mimetype": "text/x-python",
   "name": "python",
   "nbconvert_exporter": "python",
   "pygments_lexer": "ipython3",
   "version": "3.9.13"
  }
 },
 "nbformat": 4,
 "nbformat_minor": 2
}
